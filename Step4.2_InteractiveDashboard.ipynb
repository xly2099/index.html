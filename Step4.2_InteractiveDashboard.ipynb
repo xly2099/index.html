{
 "cells": [
  {
   "cell_type": "code",
   "execution_count": 1,
   "id": "f4185bf4",
   "metadata": {},
   "outputs": [],
   "source": [
    "# !pip install dash\n",
    "# !pip install dash-renderer\n",
    "# !pip install dash_html_components\n",
    "# !pip install dash_core_components"
   ]
  },
  {
   "cell_type": "code",
   "execution_count": 2,
   "id": "769db247",
   "metadata": {},
   "outputs": [
    {
     "name": "stderr",
     "output_type": "stream",
     "text": [
      "/var/folders/7b/ph4zr6l10n154bhvkcqz63zm0000gn/T/ipykernel_29383/2641342000.py:2: UserWarning: \n",
      "The dash_core_components package is deprecated. Please replace\n",
      "`import dash_core_components as dcc` with `from dash import dcc`\n",
      "  import dash_core_components as dcc\n",
      "/var/folders/7b/ph4zr6l10n154bhvkcqz63zm0000gn/T/ipykernel_29383/2641342000.py:3: UserWarning: \n",
      "The dash_html_components package is deprecated. Please replace\n",
      "`import dash_html_components as html` with `from dash import html`\n",
      "  import dash_html_components as html\n"
     ]
    }
   ],
   "source": [
    "import dash\n",
    "import dash_core_components as dcc\n",
    "import dash_html_components as html\n",
    "import pandas as pd"
   ]
  },
  {
   "cell_type": "code",
   "execution_count": 3,
   "id": "6df00dcf",
   "metadata": {},
   "outputs": [],
   "source": [
    "df = pd.read_csv('dataset_space_API_past_launches_raw.csv')\n",
    "df_droped = df.dropna()\n",
    "df_droped = df_droped.reset_index(drop=True)\n",
    "df_droped.head()\n",
    "df_label = df_droped.replace(['True Ocean','True RTLS', 'True ASDS', \n",
    "                         'False Ocean', 'False RTLS', 'False ASDS', 'None ASDS','None None',\n",
    "                         'True','False'],\n",
    "                        [1,1,1,\n",
    "                         0,0,0,0,0,\n",
    "                         1,0])\n",
    "df = df_label"
   ]
  },
  {
   "cell_type": "code",
   "execution_count": 4,
   "id": "97e2e1ff",
   "metadata": {},
   "outputs": [
    {
     "data": {
      "text/html": [
       "<div>\n",
       "<style scoped>\n",
       "    .dataframe tbody tr th:only-of-type {\n",
       "        vertical-align: middle;\n",
       "    }\n",
       "\n",
       "    .dataframe tbody tr th {\n",
       "        vertical-align: top;\n",
       "    }\n",
       "\n",
       "    .dataframe thead th {\n",
       "        text-align: right;\n",
       "    }\n",
       "</style>\n",
       "<table border=\"1\" class=\"dataframe\">\n",
       "  <thead>\n",
       "    <tr style=\"text-align: right;\">\n",
       "      <th></th>\n",
       "      <th>FlightNumber</th>\n",
       "      <th>Date</th>\n",
       "      <th>BoosterVersion</th>\n",
       "      <th>PayloadMass</th>\n",
       "      <th>Orbit</th>\n",
       "      <th>LaunchSite</th>\n",
       "      <th>Outcome</th>\n",
       "      <th>Flights</th>\n",
       "      <th>GridFins</th>\n",
       "      <th>Reused</th>\n",
       "      <th>Legs</th>\n",
       "      <th>LandingPad</th>\n",
       "      <th>Block</th>\n",
       "      <th>ReusedCount</th>\n",
       "      <th>Serial</th>\n",
       "      <th>Longitude</th>\n",
       "      <th>Latitude</th>\n",
       "    </tr>\n",
       "  </thead>\n",
       "  <tbody>\n",
       "    <tr>\n",
       "      <th>0</th>\n",
       "      <td>19</td>\n",
       "      <td>2015/1/10</td>\n",
       "      <td>Falcon 9</td>\n",
       "      <td>2395.0</td>\n",
       "      <td>ISS</td>\n",
       "      <td>CCSFS SLC 40</td>\n",
       "      <td>0</td>\n",
       "      <td>1</td>\n",
       "      <td>True</td>\n",
       "      <td>False</td>\n",
       "      <td>True</td>\n",
       "      <td>5e9e3032383ecb761634e7cb</td>\n",
       "      <td>1.0</td>\n",
       "      <td>0</td>\n",
       "      <td>B1012</td>\n",
       "      <td>-80.577366</td>\n",
       "      <td>28.561857</td>\n",
       "    </tr>\n",
       "    <tr>\n",
       "      <th>1</th>\n",
       "      <td>22</td>\n",
       "      <td>2015/4/14</td>\n",
       "      <td>Falcon 9</td>\n",
       "      <td>1898.0</td>\n",
       "      <td>ISS</td>\n",
       "      <td>CCSFS SLC 40</td>\n",
       "      <td>0</td>\n",
       "      <td>1</td>\n",
       "      <td>True</td>\n",
       "      <td>False</td>\n",
       "      <td>True</td>\n",
       "      <td>5e9e3032383ecb761634e7cb</td>\n",
       "      <td>1.0</td>\n",
       "      <td>0</td>\n",
       "      <td>B1015</td>\n",
       "      <td>-80.577366</td>\n",
       "      <td>28.561857</td>\n",
       "    </tr>\n",
       "    <tr>\n",
       "      <th>2</th>\n",
       "      <td>24</td>\n",
       "      <td>2015/6/28</td>\n",
       "      <td>Falcon 9</td>\n",
       "      <td>2477.0</td>\n",
       "      <td>ISS</td>\n",
       "      <td>CCSFS SLC 40</td>\n",
       "      <td>0</td>\n",
       "      <td>1</td>\n",
       "      <td>True</td>\n",
       "      <td>False</td>\n",
       "      <td>True</td>\n",
       "      <td>5e9e3032383ecb6bb234e7ca</td>\n",
       "      <td>1.0</td>\n",
       "      <td>0</td>\n",
       "      <td>B1018</td>\n",
       "      <td>-80.577366</td>\n",
       "      <td>28.561857</td>\n",
       "    </tr>\n",
       "    <tr>\n",
       "      <th>3</th>\n",
       "      <td>25</td>\n",
       "      <td>2015/12/22</td>\n",
       "      <td>Falcon 9</td>\n",
       "      <td>2034.0</td>\n",
       "      <td>LEO</td>\n",
       "      <td>CCSFS SLC 40</td>\n",
       "      <td>1</td>\n",
       "      <td>1</td>\n",
       "      <td>True</td>\n",
       "      <td>False</td>\n",
       "      <td>True</td>\n",
       "      <td>5e9e3032383ecb267a34e7c7</td>\n",
       "      <td>1.0</td>\n",
       "      <td>0</td>\n",
       "      <td>B1019</td>\n",
       "      <td>-80.577366</td>\n",
       "      <td>28.561857</td>\n",
       "    </tr>\n",
       "    <tr>\n",
       "      <th>4</th>\n",
       "      <td>26</td>\n",
       "      <td>2016/1/17</td>\n",
       "      <td>Falcon 9</td>\n",
       "      <td>553.0</td>\n",
       "      <td>PO</td>\n",
       "      <td>VAFB SLC 4E</td>\n",
       "      <td>0</td>\n",
       "      <td>1</td>\n",
       "      <td>True</td>\n",
       "      <td>False</td>\n",
       "      <td>True</td>\n",
       "      <td>5e9e3033383ecbb9e534e7cc</td>\n",
       "      <td>1.0</td>\n",
       "      <td>0</td>\n",
       "      <td>B1017</td>\n",
       "      <td>-120.610829</td>\n",
       "      <td>34.632093</td>\n",
       "    </tr>\n",
       "  </tbody>\n",
       "</table>\n",
       "</div>"
      ],
      "text/plain": [
       "   FlightNumber        Date BoosterVersion  PayloadMass Orbit    LaunchSite  \\\n",
       "0            19   2015/1/10       Falcon 9       2395.0   ISS  CCSFS SLC 40   \n",
       "1            22   2015/4/14       Falcon 9       1898.0   ISS  CCSFS SLC 40   \n",
       "2            24   2015/6/28       Falcon 9       2477.0   ISS  CCSFS SLC 40   \n",
       "3            25  2015/12/22       Falcon 9       2034.0   LEO  CCSFS SLC 40   \n",
       "4            26   2016/1/17       Falcon 9        553.0    PO   VAFB SLC 4E   \n",
       "\n",
       "   Outcome  Flights  GridFins  Reused  Legs                LandingPad  Block  \\\n",
       "0        0        1      True   False  True  5e9e3032383ecb761634e7cb    1.0   \n",
       "1        0        1      True   False  True  5e9e3032383ecb761634e7cb    1.0   \n",
       "2        0        1      True   False  True  5e9e3032383ecb6bb234e7ca    1.0   \n",
       "3        1        1      True   False  True  5e9e3032383ecb267a34e7c7    1.0   \n",
       "4        0        1      True   False  True  5e9e3033383ecbb9e534e7cc    1.0   \n",
       "\n",
       "   ReusedCount Serial   Longitude   Latitude  \n",
       "0            0  B1012  -80.577366  28.561857  \n",
       "1            0  B1015  -80.577366  28.561857  \n",
       "2            0  B1018  -80.577366  28.561857  \n",
       "3            0  B1019  -80.577366  28.561857  \n",
       "4            0  B1017 -120.610829  34.632093  "
      ]
     },
     "execution_count": 4,
     "metadata": {},
     "output_type": "execute_result"
    }
   ],
   "source": [
    "df.head()"
   ]
  },
  {
   "cell_type": "code",
   "execution_count": 5,
   "id": "66d8acc3",
   "metadata": {},
   "outputs": [
    {
     "data": {
      "text/html": [
       "<div>\n",
       "<style scoped>\n",
       "    .dataframe tbody tr th:only-of-type {\n",
       "        vertical-align: middle;\n",
       "    }\n",
       "\n",
       "    .dataframe tbody tr th {\n",
       "        vertical-align: top;\n",
       "    }\n",
       "\n",
       "    .dataframe thead th {\n",
       "        text-align: right;\n",
       "    }\n",
       "</style>\n",
       "<table border=\"1\" class=\"dataframe\">\n",
       "  <thead>\n",
       "    <tr style=\"text-align: right;\">\n",
       "      <th></th>\n",
       "      <th>Outcome</th>\n",
       "    </tr>\n",
       "  </thead>\n",
       "  <tbody>\n",
       "    <tr>\n",
       "      <th>1</th>\n",
       "      <td>52</td>\n",
       "    </tr>\n",
       "    <tr>\n",
       "      <th>0</th>\n",
       "      <td>9</td>\n",
       "    </tr>\n",
       "  </tbody>\n",
       "</table>\n",
       "</div>"
      ],
      "text/plain": [
       "   Outcome\n",
       "1       52\n",
       "0        9"
      ]
     },
     "execution_count": 5,
     "metadata": {},
     "output_type": "execute_result"
    }
   ],
   "source": [
    "Outcome_count = df['Outcome'].value_counts().to_frame()\n",
    "Outcome_count"
   ]
  },
  {
   "cell_type": "code",
   "execution_count": 6,
   "id": "b9d26674",
   "metadata": {},
   "outputs": [],
   "source": [
    "Outcome = df['Outcome']\n",
    "LaunchSite = df['LaunchSite']"
   ]
  },
  {
   "cell_type": "code",
   "execution_count": 7,
   "id": "a258fa1b",
   "metadata": {},
   "outputs": [],
   "source": [
    "Outcome = df['Outcome']\n"
   ]
  },
  {
   "cell_type": "code",
   "execution_count": 8,
   "id": "0b62ea8a",
   "metadata": {},
   "outputs": [],
   "source": [
    "app = dash.Dash()\n"
   ]
  },
  {
   "cell_type": "code",
   "execution_count": 9,
   "id": "31523779",
   "metadata": {},
   "outputs": [],
   "source": [
    "app.layout = html.Div([\n",
    "    html.H1('Landing Success or not'),\n",
    "#     html.Div('Dash Dash Dash'),\n",
    "    dcc.Graph(\n",
    "        id = 'sample-graph',\n",
    "        figure = {'data':[\n",
    "                     {'x':[5,10],'y':[52,9],'type':'bar','name':'First Chart'},\n",
    "                         ],\n",
    "                  'layout':{'title':'Outcome'}\n",
    "                 }\n",
    "    )\n",
    "])"
   ]
  },
  {
   "cell_type": "code",
   "execution_count": null,
   "id": "360d1cae",
   "metadata": {},
   "outputs": [
    {
     "name": "stdout",
     "output_type": "stream",
     "text": [
      "Dash is running on http://127.0.0.1:4050/\n",
      "\n",
      " * Serving Flask app \"__main__\" (lazy loading)\n",
      " * Environment: production\n",
      "\u001b[31m   WARNING: This is a development server. Do not use it in a production deployment.\u001b[0m\n",
      "\u001b[2m   Use a production WSGI server instead.\u001b[0m\n",
      " * Debug mode: off\n"
     ]
    },
    {
     "name": "stderr",
     "output_type": "stream",
     "text": [
      " * Running on http://127.0.0.1:4050/ (Press CTRL+C to quit)\n",
      "127.0.0.1 - - [22/Sep/2022 22:57:30] \"GET / HTTP/1.1\" 200 -\n",
      "127.0.0.1 - - [22/Sep/2022 22:57:30] \"GET /_dash-layout HTTP/1.1\" 200 -\n",
      "127.0.0.1 - - [22/Sep/2022 22:57:30] \"GET /_dash-dependencies HTTP/1.1\" 200 -\n",
      "127.0.0.1 - - [22/Sep/2022 22:57:30] \"GET /_dash-component-suites/dash/dcc/async-graph.js HTTP/1.1\" 200 -\n",
      "127.0.0.1 - - [22/Sep/2022 22:57:30] \"GET /_dash-component-suites/dash/dcc/async-plotlyjs.js HTTP/1.1\" 200 -\n"
     ]
    }
   ],
   "source": [
    "if __name__ == '__main__':\n",
    "    app.run_server(port=4050)"
   ]
  },
  {
   "cell_type": "code",
   "execution_count": null,
   "id": "6093d810",
   "metadata": {},
   "outputs": [],
   "source": []
  }
 ],
 "metadata": {
  "kernelspec": {
   "display_name": "Python 3 (ipykernel)",
   "language": "python",
   "name": "python3"
  },
  "language_info": {
   "codemirror_mode": {
    "name": "ipython",
    "version": 3
   },
   "file_extension": ".py",
   "mimetype": "text/x-python",
   "name": "python",
   "nbconvert_exporter": "python",
   "pygments_lexer": "ipython3",
   "version": "3.9.7"
  }
 },
 "nbformat": 4,
 "nbformat_minor": 5
}
