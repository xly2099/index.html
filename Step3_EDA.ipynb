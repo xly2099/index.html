{
 "cells": [
  {
   "cell_type": "code",
   "execution_count": 1,
   "id": "5ce5d696",
   "metadata": {},
   "outputs": [],
   "source": [
    "import pandas as pd\n",
    "import numpy as np\n",
    "import matplotlib.pyplot as plt\n",
    "from plotly.subplots import make_subplots\n",
    "from sklearn.preprocessing import LabelEncoder\n",
    "import seaborn as sns\n"
   ]
  },
  {
   "cell_type": "code",
   "execution_count": 2,
   "id": "61cbbaaa",
   "metadata": {},
   "outputs": [],
   "source": [
    "df = pd.read_csv('dataset_space_API_past_launches_raw.csv')"
   ]
  },
  {
   "cell_type": "code",
   "execution_count": 3,
   "id": "827a841f",
   "metadata": {},
   "outputs": [],
   "source": [
    "Date_count = df['Date'].value_counts().to_frame()\n",
    "BoosterVersion_count = df['BoosterVersion'].value_counts().to_frame()\n",
    "PayloadMass_count = df['PayloadMass'].value_counts().to_frame()\n",
    "Orbit_count = df['Orbit'].value_counts().to_frame()\n",
    "LaunchSite_count = df['LaunchSite'].value_counts().to_frame()\n",
    "Outcome_count = df['Outcome'].value_counts().to_frame()\n",
    "Flights_count = df['Flights'].value_counts().to_frame()\n",
    "GridFins_count = df['GridFins'].value_counts().to_frame()\n",
    "Reused_count = df['Reused'].value_counts().to_frame()\n",
    "Legs_count = df['Legs'].value_counts().to_frame()\n",
    "LandingPad_count = df['LandingPad'].value_counts().to_frame()\n",
    "Block_count = df['Block'].value_counts().to_frame()\n",
    "ReusedCount_count = df['ReusedCount'].value_counts().to_frame()\n",
    "Serial_count = df['Serial'].value_counts().to_frame()\n",
    "Longitude_count = df['Longitude'].value_counts().to_frame()\n",
    "Latitude_count = df['Latitude'].value_counts().to_frame()"
   ]
  },
  {
   "cell_type": "markdown",
   "id": "3f10cd4e",
   "metadata": {},
   "source": [
    "### Dealling with missing values"
   ]
  },
  {
   "cell_type": "code",
   "execution_count": 4,
   "id": "e77b2517",
   "metadata": {},
   "outputs": [
    {
     "data": {
      "text/html": [
       "<div>\n",
       "<style scoped>\n",
       "    .dataframe tbody tr th:only-of-type {\n",
       "        vertical-align: middle;\n",
       "    }\n",
       "\n",
       "    .dataframe tbody tr th {\n",
       "        vertical-align: top;\n",
       "    }\n",
       "\n",
       "    .dataframe thead th {\n",
       "        text-align: right;\n",
       "    }\n",
       "</style>\n",
       "<table border=\"1\" class=\"dataframe\">\n",
       "  <thead>\n",
       "    <tr style=\"text-align: right;\">\n",
       "      <th></th>\n",
       "      <th>FlightNumber</th>\n",
       "      <th>Date</th>\n",
       "      <th>BoosterVersion</th>\n",
       "      <th>PayloadMass</th>\n",
       "      <th>Orbit</th>\n",
       "      <th>LaunchSite</th>\n",
       "      <th>Outcome</th>\n",
       "      <th>Flights</th>\n",
       "      <th>GridFins</th>\n",
       "      <th>Reused</th>\n",
       "      <th>Legs</th>\n",
       "      <th>LandingPad</th>\n",
       "      <th>Block</th>\n",
       "      <th>ReusedCount</th>\n",
       "      <th>Serial</th>\n",
       "      <th>Longitude</th>\n",
       "      <th>Latitude</th>\n",
       "    </tr>\n",
       "  </thead>\n",
       "  <tbody>\n",
       "    <tr>\n",
       "      <th>0</th>\n",
       "      <td>19</td>\n",
       "      <td>2015/1/10</td>\n",
       "      <td>Falcon 9</td>\n",
       "      <td>2395.0</td>\n",
       "      <td>ISS</td>\n",
       "      <td>CCSFS SLC 40</td>\n",
       "      <td>False ASDS</td>\n",
       "      <td>1</td>\n",
       "      <td>True</td>\n",
       "      <td>False</td>\n",
       "      <td>True</td>\n",
       "      <td>5e9e3032383ecb761634e7cb</td>\n",
       "      <td>1.0</td>\n",
       "      <td>0</td>\n",
       "      <td>B1012</td>\n",
       "      <td>-80.577366</td>\n",
       "      <td>28.561857</td>\n",
       "    </tr>\n",
       "    <tr>\n",
       "      <th>1</th>\n",
       "      <td>22</td>\n",
       "      <td>2015/4/14</td>\n",
       "      <td>Falcon 9</td>\n",
       "      <td>1898.0</td>\n",
       "      <td>ISS</td>\n",
       "      <td>CCSFS SLC 40</td>\n",
       "      <td>False ASDS</td>\n",
       "      <td>1</td>\n",
       "      <td>True</td>\n",
       "      <td>False</td>\n",
       "      <td>True</td>\n",
       "      <td>5e9e3032383ecb761634e7cb</td>\n",
       "      <td>1.0</td>\n",
       "      <td>0</td>\n",
       "      <td>B1015</td>\n",
       "      <td>-80.577366</td>\n",
       "      <td>28.561857</td>\n",
       "    </tr>\n",
       "    <tr>\n",
       "      <th>2</th>\n",
       "      <td>24</td>\n",
       "      <td>2015/6/28</td>\n",
       "      <td>Falcon 9</td>\n",
       "      <td>2477.0</td>\n",
       "      <td>ISS</td>\n",
       "      <td>CCSFS SLC 40</td>\n",
       "      <td>None ASDS</td>\n",
       "      <td>1</td>\n",
       "      <td>True</td>\n",
       "      <td>False</td>\n",
       "      <td>True</td>\n",
       "      <td>5e9e3032383ecb6bb234e7ca</td>\n",
       "      <td>1.0</td>\n",
       "      <td>0</td>\n",
       "      <td>B1018</td>\n",
       "      <td>-80.577366</td>\n",
       "      <td>28.561857</td>\n",
       "    </tr>\n",
       "    <tr>\n",
       "      <th>3</th>\n",
       "      <td>25</td>\n",
       "      <td>2015/12/22</td>\n",
       "      <td>Falcon 9</td>\n",
       "      <td>2034.0</td>\n",
       "      <td>LEO</td>\n",
       "      <td>CCSFS SLC 40</td>\n",
       "      <td>True RTLS</td>\n",
       "      <td>1</td>\n",
       "      <td>True</td>\n",
       "      <td>False</td>\n",
       "      <td>True</td>\n",
       "      <td>5e9e3032383ecb267a34e7c7</td>\n",
       "      <td>1.0</td>\n",
       "      <td>0</td>\n",
       "      <td>B1019</td>\n",
       "      <td>-80.577366</td>\n",
       "      <td>28.561857</td>\n",
       "    </tr>\n",
       "    <tr>\n",
       "      <th>4</th>\n",
       "      <td>26</td>\n",
       "      <td>2016/1/17</td>\n",
       "      <td>Falcon 9</td>\n",
       "      <td>553.0</td>\n",
       "      <td>PO</td>\n",
       "      <td>VAFB SLC 4E</td>\n",
       "      <td>False ASDS</td>\n",
       "      <td>1</td>\n",
       "      <td>True</td>\n",
       "      <td>False</td>\n",
       "      <td>True</td>\n",
       "      <td>5e9e3033383ecbb9e534e7cc</td>\n",
       "      <td>1.0</td>\n",
       "      <td>0</td>\n",
       "      <td>B1017</td>\n",
       "      <td>-120.610829</td>\n",
       "      <td>34.632093</td>\n",
       "    </tr>\n",
       "  </tbody>\n",
       "</table>\n",
       "</div>"
      ],
      "text/plain": [
       "   FlightNumber        Date BoosterVersion  PayloadMass Orbit    LaunchSite  \\\n",
       "0            19   2015/1/10       Falcon 9       2395.0   ISS  CCSFS SLC 40   \n",
       "1            22   2015/4/14       Falcon 9       1898.0   ISS  CCSFS SLC 40   \n",
       "2            24   2015/6/28       Falcon 9       2477.0   ISS  CCSFS SLC 40   \n",
       "3            25  2015/12/22       Falcon 9       2034.0   LEO  CCSFS SLC 40   \n",
       "4            26   2016/1/17       Falcon 9        553.0    PO   VAFB SLC 4E   \n",
       "\n",
       "      Outcome  Flights  GridFins  Reused  Legs                LandingPad  \\\n",
       "0  False ASDS        1      True   False  True  5e9e3032383ecb761634e7cb   \n",
       "1  False ASDS        1      True   False  True  5e9e3032383ecb761634e7cb   \n",
       "2   None ASDS        1      True   False  True  5e9e3032383ecb6bb234e7ca   \n",
       "3   True RTLS        1      True   False  True  5e9e3032383ecb267a34e7c7   \n",
       "4  False ASDS        1      True   False  True  5e9e3033383ecbb9e534e7cc   \n",
       "\n",
       "   Block  ReusedCount Serial   Longitude   Latitude  \n",
       "0    1.0            0  B1012  -80.577366  28.561857  \n",
       "1    1.0            0  B1015  -80.577366  28.561857  \n",
       "2    1.0            0  B1018  -80.577366  28.561857  \n",
       "3    1.0            0  B1019  -80.577366  28.561857  \n",
       "4    1.0            0  B1017 -120.610829  34.632093  "
      ]
     },
     "execution_count": 4,
     "metadata": {},
     "output_type": "execute_result"
    }
   ],
   "source": [
    "df_droped = df.dropna()\n",
    "df_droped = df_droped.reset_index(drop=True)\n",
    "df_droped.head()"
   ]
  },
  {
   "cell_type": "markdown",
   "id": "fa44b406",
   "metadata": {},
   "source": [
    "### Classify landing outcome as successful or unsuccessful by creating a landing outcome label from Outcome column, “1” for successful landing, “0” for the unsuccessful landing."
   ]
  },
  {
   "cell_type": "code",
   "execution_count": 5,
   "id": "a1004bb7",
   "metadata": {},
   "outputs": [],
   "source": [
    "# encode the Outcome column\n",
    "df_label = df_droped.replace(['True Ocean','True RTLS', 'True ASDS', \n",
    "                         'False Ocean', 'False RTLS', 'False ASDS', 'None ASDS','None None',\n",
    "                         'True','False'],\n",
    "                        [1,1,1,\n",
    "                         0,0,0,0,0,\n",
    "                         1,0])"
   ]
  },
  {
   "cell_type": "code",
   "execution_count": 6,
   "id": "25356c77",
   "metadata": {},
   "outputs": [
    {
     "data": {
      "text/html": [
       "<div>\n",
       "<style scoped>\n",
       "    .dataframe tbody tr th:only-of-type {\n",
       "        vertical-align: middle;\n",
       "    }\n",
       "\n",
       "    .dataframe tbody tr th {\n",
       "        vertical-align: top;\n",
       "    }\n",
       "\n",
       "    .dataframe thead th {\n",
       "        text-align: right;\n",
       "    }\n",
       "</style>\n",
       "<table border=\"1\" class=\"dataframe\">\n",
       "  <thead>\n",
       "    <tr style=\"text-align: right;\">\n",
       "      <th></th>\n",
       "      <th>FlightNumber</th>\n",
       "      <th>Date</th>\n",
       "      <th>BoosterVersion</th>\n",
       "      <th>PayloadMass</th>\n",
       "      <th>Orbit</th>\n",
       "      <th>LaunchSite</th>\n",
       "      <th>Outcome</th>\n",
       "      <th>Flights</th>\n",
       "      <th>GridFins</th>\n",
       "      <th>Reused</th>\n",
       "      <th>Legs</th>\n",
       "      <th>LandingPad</th>\n",
       "      <th>Block</th>\n",
       "      <th>ReusedCount</th>\n",
       "      <th>Serial</th>\n",
       "      <th>Longitude</th>\n",
       "      <th>Latitude</th>\n",
       "    </tr>\n",
       "  </thead>\n",
       "  <tbody>\n",
       "    <tr>\n",
       "      <th>0</th>\n",
       "      <td>19</td>\n",
       "      <td>2015/1/10</td>\n",
       "      <td>Falcon 9</td>\n",
       "      <td>2395.0</td>\n",
       "      <td>ISS</td>\n",
       "      <td>CCSFS SLC 40</td>\n",
       "      <td>0</td>\n",
       "      <td>1</td>\n",
       "      <td>True</td>\n",
       "      <td>False</td>\n",
       "      <td>True</td>\n",
       "      <td>5e9e3032383ecb761634e7cb</td>\n",
       "      <td>1.0</td>\n",
       "      <td>0</td>\n",
       "      <td>B1012</td>\n",
       "      <td>-80.577366</td>\n",
       "      <td>28.561857</td>\n",
       "    </tr>\n",
       "    <tr>\n",
       "      <th>1</th>\n",
       "      <td>22</td>\n",
       "      <td>2015/4/14</td>\n",
       "      <td>Falcon 9</td>\n",
       "      <td>1898.0</td>\n",
       "      <td>ISS</td>\n",
       "      <td>CCSFS SLC 40</td>\n",
       "      <td>0</td>\n",
       "      <td>1</td>\n",
       "      <td>True</td>\n",
       "      <td>False</td>\n",
       "      <td>True</td>\n",
       "      <td>5e9e3032383ecb761634e7cb</td>\n",
       "      <td>1.0</td>\n",
       "      <td>0</td>\n",
       "      <td>B1015</td>\n",
       "      <td>-80.577366</td>\n",
       "      <td>28.561857</td>\n",
       "    </tr>\n",
       "    <tr>\n",
       "      <th>2</th>\n",
       "      <td>24</td>\n",
       "      <td>2015/6/28</td>\n",
       "      <td>Falcon 9</td>\n",
       "      <td>2477.0</td>\n",
       "      <td>ISS</td>\n",
       "      <td>CCSFS SLC 40</td>\n",
       "      <td>0</td>\n",
       "      <td>1</td>\n",
       "      <td>True</td>\n",
       "      <td>False</td>\n",
       "      <td>True</td>\n",
       "      <td>5e9e3032383ecb6bb234e7ca</td>\n",
       "      <td>1.0</td>\n",
       "      <td>0</td>\n",
       "      <td>B1018</td>\n",
       "      <td>-80.577366</td>\n",
       "      <td>28.561857</td>\n",
       "    </tr>\n",
       "    <tr>\n",
       "      <th>3</th>\n",
       "      <td>25</td>\n",
       "      <td>2015/12/22</td>\n",
       "      <td>Falcon 9</td>\n",
       "      <td>2034.0</td>\n",
       "      <td>LEO</td>\n",
       "      <td>CCSFS SLC 40</td>\n",
       "      <td>1</td>\n",
       "      <td>1</td>\n",
       "      <td>True</td>\n",
       "      <td>False</td>\n",
       "      <td>True</td>\n",
       "      <td>5e9e3032383ecb267a34e7c7</td>\n",
       "      <td>1.0</td>\n",
       "      <td>0</td>\n",
       "      <td>B1019</td>\n",
       "      <td>-80.577366</td>\n",
       "      <td>28.561857</td>\n",
       "    </tr>\n",
       "    <tr>\n",
       "      <th>4</th>\n",
       "      <td>26</td>\n",
       "      <td>2016/1/17</td>\n",
       "      <td>Falcon 9</td>\n",
       "      <td>553.0</td>\n",
       "      <td>PO</td>\n",
       "      <td>VAFB SLC 4E</td>\n",
       "      <td>0</td>\n",
       "      <td>1</td>\n",
       "      <td>True</td>\n",
       "      <td>False</td>\n",
       "      <td>True</td>\n",
       "      <td>5e9e3033383ecbb9e534e7cc</td>\n",
       "      <td>1.0</td>\n",
       "      <td>0</td>\n",
       "      <td>B1017</td>\n",
       "      <td>-120.610829</td>\n",
       "      <td>34.632093</td>\n",
       "    </tr>\n",
       "  </tbody>\n",
       "</table>\n",
       "</div>"
      ],
      "text/plain": [
       "   FlightNumber        Date BoosterVersion  PayloadMass Orbit    LaunchSite  \\\n",
       "0            19   2015/1/10       Falcon 9       2395.0   ISS  CCSFS SLC 40   \n",
       "1            22   2015/4/14       Falcon 9       1898.0   ISS  CCSFS SLC 40   \n",
       "2            24   2015/6/28       Falcon 9       2477.0   ISS  CCSFS SLC 40   \n",
       "3            25  2015/12/22       Falcon 9       2034.0   LEO  CCSFS SLC 40   \n",
       "4            26   2016/1/17       Falcon 9        553.0    PO   VAFB SLC 4E   \n",
       "\n",
       "   Outcome  Flights  GridFins  Reused  Legs                LandingPad  Block  \\\n",
       "0        0        1      True   False  True  5e9e3032383ecb761634e7cb    1.0   \n",
       "1        0        1      True   False  True  5e9e3032383ecb761634e7cb    1.0   \n",
       "2        0        1      True   False  True  5e9e3032383ecb6bb234e7ca    1.0   \n",
       "3        1        1      True   False  True  5e9e3032383ecb267a34e7c7    1.0   \n",
       "4        0        1      True   False  True  5e9e3033383ecbb9e534e7cc    1.0   \n",
       "\n",
       "   ReusedCount Serial   Longitude   Latitude  \n",
       "0            0  B1012  -80.577366  28.561857  \n",
       "1            0  B1015  -80.577366  28.561857  \n",
       "2            0  B1018  -80.577366  28.561857  \n",
       "3            0  B1019  -80.577366  28.561857  \n",
       "4            0  B1017 -120.610829  34.632093  "
      ]
     },
     "execution_count": 6,
     "metadata": {},
     "output_type": "execute_result"
    }
   ],
   "source": [
    "df_label.head()"
   ]
  },
  {
   "cell_type": "markdown",
   "id": "d5e0a33b",
   "metadata": {},
   "source": [
    "# Step 3 EDA"
   ]
  },
  {
   "cell_type": "code",
   "execution_count": 7,
   "id": "ccd8be8c",
   "metadata": {},
   "outputs": [],
   "source": [
    "# !pip install -q pywaffle\n",
    "from pywaffle import Waffle"
   ]
  },
  {
   "cell_type": "code",
   "execution_count": 8,
   "id": "f2096d56",
   "metadata": {},
   "outputs": [
    {
     "data": {
      "image/png": "[encoded data removed]",
      "text/plain": [
       "<Waffle size 720x720 with 1 Axes>"
      ]
     },
     "metadata": {
      "needs_background": "light"
     },
     "output_type": "display_data"
    }
   ],
   "source": [
    "plt.rcParams['figure.figsize'] = (10,10)\n",
    "data = dict(df_label['Outcome'].value_counts(normalize = True) * 100)\n",
    "fig = plt.figure(\n",
    "    FigureClass=Waffle, \n",
    "    columns=20, \n",
    "    values=data, \n",
    "    colors=(\"#3bff3b\", \"#ff3b3b\"),\n",
    "    title={'label': 'Outcome', 'loc': 'center'},\n",
    "    icons = 'rocket',\n",
    "    icon_size = 30,\n",
    "    labels=[f\"{k} ({v:.2f}%)\" for k, v in data.items()],\n",
    "    legend={'loc': 'lower left', 'bbox_to_anchor': (0, -0.3), 'ncol': len(data)}\n",
    ")\n",
    "plt.show()"
   ]
  },
  {
   "cell_type": "code",
   "execution_count": 9,
   "id": "7875a4b3",
   "metadata": {},
   "outputs": [
    {
     "data": {
      "text/html": [
       "<div>\n",
       "<style scoped>\n",
       "    .dataframe tbody tr th:only-of-type {\n",
       "        vertical-align: middle;\n",
       "    }\n",
       "\n",
       "    .dataframe tbody tr th {\n",
       "        vertical-align: top;\n",
       "    }\n",
       "\n",
       "    .dataframe thead th {\n",
       "        text-align: right;\n",
       "    }\n",
       "</style>\n",
       "<table border=\"1\" class=\"dataframe\">\n",
       "  <thead>\n",
       "    <tr style=\"text-align: right;\">\n",
       "      <th></th>\n",
       "      <th>FlightNumber</th>\n",
       "      <th>Date</th>\n",
       "      <th>BoosterVersion</th>\n",
       "      <th>PayloadMass</th>\n",
       "      <th>Orbit</th>\n",
       "      <th>LaunchSite</th>\n",
       "      <th>Outcome</th>\n",
       "      <th>Flights</th>\n",
       "      <th>GridFins</th>\n",
       "      <th>Reused</th>\n",
       "      <th>Legs</th>\n",
       "      <th>LandingPad</th>\n",
       "      <th>Block</th>\n",
       "      <th>ReusedCount</th>\n",
       "      <th>Serial</th>\n",
       "      <th>Longitude</th>\n",
       "      <th>Latitude</th>\n",
       "    </tr>\n",
       "  </thead>\n",
       "  <tbody>\n",
       "    <tr>\n",
       "      <th>0</th>\n",
       "      <td>19</td>\n",
       "      <td>2015/1/10</td>\n",
       "      <td>Falcon 9</td>\n",
       "      <td>2395.0</td>\n",
       "      <td>ISS</td>\n",
       "      <td>CCSFS SLC 40</td>\n",
       "      <td>0</td>\n",
       "      <td>1</td>\n",
       "      <td>True</td>\n",
       "      <td>False</td>\n",
       "      <td>True</td>\n",
       "      <td>5e9e3032383ecb761634e7cb</td>\n",
       "      <td>1.0</td>\n",
       "      <td>0</td>\n",
       "      <td>B1012</td>\n",
       "      <td>-80.577366</td>\n",
       "      <td>28.561857</td>\n",
       "    </tr>\n",
       "    <tr>\n",
       "      <th>1</th>\n",
       "      <td>22</td>\n",
       "      <td>2015/4/14</td>\n",
       "      <td>Falcon 9</td>\n",
       "      <td>1898.0</td>\n",
       "      <td>ISS</td>\n",
       "      <td>CCSFS SLC 40</td>\n",
       "      <td>0</td>\n",
       "      <td>1</td>\n",
       "      <td>True</td>\n",
       "      <td>False</td>\n",
       "      <td>True</td>\n",
       "      <td>5e9e3032383ecb761634e7cb</td>\n",
       "      <td>1.0</td>\n",
       "      <td>0</td>\n",
       "      <td>B1015</td>\n",
       "      <td>-80.577366</td>\n",
       "      <td>28.561857</td>\n",
       "    </tr>\n",
       "    <tr>\n",
       "      <th>2</th>\n",
       "      <td>24</td>\n",
       "      <td>2015/6/28</td>\n",
       "      <td>Falcon 9</td>\n",
       "      <td>2477.0</td>\n",
       "      <td>ISS</td>\n",
       "      <td>CCSFS SLC 40</td>\n",
       "      <td>0</td>\n",
       "      <td>1</td>\n",
       "      <td>True</td>\n",
       "      <td>False</td>\n",
       "      <td>True</td>\n",
       "      <td>5e9e3032383ecb6bb234e7ca</td>\n",
       "      <td>1.0</td>\n",
       "      <td>0</td>\n",
       "      <td>B1018</td>\n",
       "      <td>-80.577366</td>\n",
       "      <td>28.561857</td>\n",
       "    </tr>\n",
       "    <tr>\n",
       "      <th>3</th>\n",
       "      <td>25</td>\n",
       "      <td>2015/12/22</td>\n",
       "      <td>Falcon 9</td>\n",
       "      <td>2034.0</td>\n",
       "      <td>LEO</td>\n",
       "      <td>CCSFS SLC 40</td>\n",
       "      <td>1</td>\n",
       "      <td>1</td>\n",
       "      <td>True</td>\n",
       "      <td>False</td>\n",
       "      <td>True</td>\n",
       "      <td>5e9e3032383ecb267a34e7c7</td>\n",
       "      <td>1.0</td>\n",
       "      <td>0</td>\n",
       "      <td>B1019</td>\n",
       "      <td>-80.577366</td>\n",
       "      <td>28.561857</td>\n",
       "    </tr>\n",
       "    <tr>\n",
       "      <th>4</th>\n",
       "      <td>26</td>\n",
       "      <td>2016/1/17</td>\n",
       "      <td>Falcon 9</td>\n",
       "      <td>553.0</td>\n",
       "      <td>PO</td>\n",
       "      <td>VAFB SLC 4E</td>\n",
       "      <td>0</td>\n",
       "      <td>1</td>\n",
       "      <td>True</td>\n",
       "      <td>False</td>\n",
       "      <td>True</td>\n",
       "      <td>5e9e3033383ecbb9e534e7cc</td>\n",
       "      <td>1.0</td>\n",
       "      <td>0</td>\n",
       "      <td>B1017</td>\n",
       "      <td>-120.610829</td>\n",
       "      <td>34.632093</td>\n",
       "    </tr>\n",
       "  </tbody>\n",
       "</table>\n",
       "</div>"
      ],
      "text/plain": [
       "   FlightNumber        Date BoosterVersion  PayloadMass Orbit    LaunchSite  \\\n",
       "0            19   2015/1/10       Falcon 9       2395.0   ISS  CCSFS SLC 40   \n",
       "1            22   2015/4/14       Falcon 9       1898.0   ISS  CCSFS SLC 40   \n",
       "2            24   2015/6/28       Falcon 9       2477.0   ISS  CCSFS SLC 40   \n",
       "3            25  2015/12/22       Falcon 9       2034.0   LEO  CCSFS SLC 40   \n",
       "4            26   2016/1/17       Falcon 9        553.0    PO   VAFB SLC 4E   \n",
       "\n",
       "   Outcome  Flights  GridFins  Reused  Legs                LandingPad  Block  \\\n",
       "0        0        1      True   False  True  5e9e3032383ecb761634e7cb    1.0   \n",
       "1        0        1      True   False  True  5e9e3032383ecb761634e7cb    1.0   \n",
       "2        0        1      True   False  True  5e9e3032383ecb6bb234e7ca    1.0   \n",
       "3        1        1      True   False  True  5e9e3032383ecb267a34e7c7    1.0   \n",
       "4        0        1      True   False  True  5e9e3033383ecbb9e534e7cc    1.0   \n",
       "\n",
       "   ReusedCount Serial   Longitude   Latitude  \n",
       "0            0  B1012  -80.577366  28.561857  \n",
       "1            0  B1015  -80.577366  28.561857  \n",
       "2            0  B1018  -80.577366  28.561857  \n",
       "3            0  B1019  -80.577366  28.561857  \n",
       "4            0  B1017 -120.610829  34.632093  "
      ]
     },
     "execution_count": 9,
     "metadata": {},
     "output_type": "execute_result"
    }
   ],
   "source": [
    "df_label.head()"
   ]
  },
  {
   "cell_type": "markdown",
   "id": "ca9b58c7",
   "metadata": {},
   "source": [
    "### LaunchSite vs. Date with Outcome"
   ]
  },
  {
   "cell_type": "code",
   "execution_count": 10,
   "id": "e93a96d3",
   "metadata": {},
   "outputs": [
    {
     "data": {
      "image/png": "[encoded data removed]",
      "text/plain": [
       "<Figure size 720x360 with 1 Axes>"
      ]
     },
     "metadata": {
      "needs_background": "light"
     },
     "output_type": "display_data"
    }
   ],
   "source": [
    "plt.figure(figsize = (10,5))\n",
    "sns.scatterplot(x=\"Date\", \n",
    "                y=\"LaunchSite\", \n",
    "                hue=\"Outcome\",\n",
    "                data=df_label)\n",
    "plt.title(\"LaunchSite vs Date\",fontsize=14)\n",
    "plt.xticks(rotation = 0)\n",
    "plt.xlabel(\"Date\",fontsize=14)\n",
    "plt.ylabel(\"Name of the Company\",fontsize=14)\n",
    "plt.show()"
   ]
  },
  {
   "cell_type": "markdown",
   "id": "585b9584",
   "metadata": {},
   "source": [
    "### Number of missions per Launch Site"
   ]
  },
  {
   "cell_type": "code",
   "execution_count": 11,
   "id": "052b536b",
   "metadata": {},
   "outputs": [
    {
     "data": {
      "image/png": "[encoded data removed]",
      "text/plain": [
       "<Figure size 1440x720 with 1 Axes>"
      ]
     },
     "metadata": {
      "needs_background": "light"
     },
     "output_type": "display_data"
    }
   ],
   "source": [
    "plt.figure(figsize = (20, 10))\n",
    "df_label.groupby('LaunchSite').count()['FlightNumber'].plot(kind='bar',color='tan')\n",
    "plt.xticks(rotation=60)\n",
    "plt.xlabel(\"LaunchSite\",fontsize=20)\n",
    "plt.ylabel(\"Flight Number\",fontsize=20)\n",
    "plt.title(\"Flight Number vs LaunchSite\",fontsize=20)\n",
    "\n",
    "plt.show()"
   ]
  },
  {
   "cell_type": "code",
   "execution_count": 12,
   "id": "19e98a2b",
   "metadata": {},
   "outputs": [
    {
     "data": {
      "image/png": "[encoded data removed]",
      "text/plain": [
       "<Figure size 1440x720 with 1 Axes>"
      ]
     },
     "metadata": {
      "needs_background": "light"
     },
     "output_type": "display_data"
    }
   ],
   "source": [
    "plt.figure(figsize = (20, 10))\n",
    "df_label.groupby('Orbit').count()['FlightNumber'].plot(kind='bar',color='tan')\n",
    "plt.xticks(rotation=60)\n",
    "plt.xlabel(\"Orbit\",fontsize=20)\n",
    "plt.ylabel(\"Flight Number\",fontsize=20)\n",
    "plt.title(\"Flight Number vs Orbit\",fontsize=20)\n",
    "\n",
    "plt.show()"
   ]
  },
  {
   "cell_type": "markdown",
   "id": "53f70bbd",
   "metadata": {},
   "source": [
    "### Success Rate vs. Launch Site"
   ]
  },
  {
   "cell_type": "code",
   "execution_count": 13,
   "id": "39ec2812",
   "metadata": {},
   "outputs": [
    {
     "data": {
      "image/png": "[encoded data removed]",
      "text/plain": [
       "<Figure size 1548x864 with 1 Axes>"
      ]
     },
     "metadata": {
      "needs_background": "light"
     },
     "output_type": "display_data"
    }
   ],
   "source": [
    "df_label['Success'] = df_label['Outcome']==1\n",
    "df_label['Success Rate %']=df_label['Success']*100\n",
    "\n",
    "plt.figure(figsize = (21.5,12))\n",
    "df_label.groupby('LaunchSite').mean()['Success Rate %'].plot(kind='bar',color='lightblue')\n",
    "plt.xticks(rotation=60)\n",
    "plt.xlabel(\"Launch Site\",fontsize=20)\n",
    "plt.ylabel(\"Success Rate\",fontsize=20)\n",
    "plt.title(\"Success Rate vs. Launch Site\",fontsize=20)\n",
    "\n",
    "plt.show()"
   ]
  },
  {
   "cell_type": "code",
   "execution_count": 14,
   "id": "89ae7d8c",
   "metadata": {},
   "outputs": [
    {
     "data": {
      "text/html": [
       "<div>\n",
       "<style scoped>\n",
       "    .dataframe tbody tr th:only-of-type {\n",
       "        vertical-align: middle;\n",
       "    }\n",
       "\n",
       "    .dataframe tbody tr th {\n",
       "        vertical-align: top;\n",
       "    }\n",
       "\n",
       "    .dataframe thead th {\n",
       "        text-align: right;\n",
       "    }\n",
       "</style>\n",
       "<table border=\"1\" class=\"dataframe\">\n",
       "  <thead>\n",
       "    <tr style=\"text-align: right;\">\n",
       "      <th></th>\n",
       "      <th>FlightNumber</th>\n",
       "      <th>Date</th>\n",
       "      <th>BoosterVersion</th>\n",
       "      <th>PayloadMass</th>\n",
       "      <th>Orbit</th>\n",
       "      <th>LaunchSite</th>\n",
       "      <th>Outcome</th>\n",
       "      <th>Flights</th>\n",
       "      <th>GridFins</th>\n",
       "      <th>Reused</th>\n",
       "      <th>Legs</th>\n",
       "      <th>LandingPad</th>\n",
       "      <th>Block</th>\n",
       "      <th>ReusedCount</th>\n",
       "      <th>Serial</th>\n",
       "      <th>Longitude</th>\n",
       "      <th>Latitude</th>\n",
       "      <th>Success</th>\n",
       "      <th>Success Rate %</th>\n",
       "    </tr>\n",
       "  </thead>\n",
       "  <tbody>\n",
       "    <tr>\n",
       "      <th>0</th>\n",
       "      <td>19</td>\n",
       "      <td>2015/1/10</td>\n",
       "      <td>Falcon 9</td>\n",
       "      <td>2395.0</td>\n",
       "      <td>ISS</td>\n",
       "      <td>CCSFS SLC 40</td>\n",
       "      <td>0</td>\n",
       "      <td>1</td>\n",
       "      <td>True</td>\n",
       "      <td>False</td>\n",
       "      <td>True</td>\n",
       "      <td>5e9e3032383ecb761634e7cb</td>\n",
       "      <td>1.0</td>\n",
       "      <td>0</td>\n",
       "      <td>B1012</td>\n",
       "      <td>-80.577366</td>\n",
       "      <td>28.561857</td>\n",
       "      <td>False</td>\n",
       "      <td>0</td>\n",
       "    </tr>\n",
       "    <tr>\n",
       "      <th>1</th>\n",
       "      <td>22</td>\n",
       "      <td>2015/4/14</td>\n",
       "      <td>Falcon 9</td>\n",
       "      <td>1898.0</td>\n",
       "      <td>ISS</td>\n",
       "      <td>CCSFS SLC 40</td>\n",
       "      <td>0</td>\n",
       "      <td>1</td>\n",
       "      <td>True</td>\n",
       "      <td>False</td>\n",
       "      <td>True</td>\n",
       "      <td>5e9e3032383ecb761634e7cb</td>\n",
       "      <td>1.0</td>\n",
       "      <td>0</td>\n",
       "      <td>B1015</td>\n",
       "      <td>-80.577366</td>\n",
       "      <td>28.561857</td>\n",
       "      <td>False</td>\n",
       "      <td>0</td>\n",
       "    </tr>\n",
       "    <tr>\n",
       "      <th>2</th>\n",
       "      <td>24</td>\n",
       "      <td>2015/6/28</td>\n",
       "      <td>Falcon 9</td>\n",
       "      <td>2477.0</td>\n",
       "      <td>ISS</td>\n",
       "      <td>CCSFS SLC 40</td>\n",
       "      <td>0</td>\n",
       "      <td>1</td>\n",
       "      <td>True</td>\n",
       "      <td>False</td>\n",
       "      <td>True</td>\n",
       "      <td>5e9e3032383ecb6bb234e7ca</td>\n",
       "      <td>1.0</td>\n",
       "      <td>0</td>\n",
       "      <td>B1018</td>\n",
       "      <td>-80.577366</td>\n",
       "      <td>28.561857</td>\n",
       "      <td>False</td>\n",
       "      <td>0</td>\n",
       "    </tr>\n",
       "    <tr>\n",
       "      <th>3</th>\n",
       "      <td>25</td>\n",
       "      <td>2015/12/22</td>\n",
       "      <td>Falcon 9</td>\n",
       "      <td>2034.0</td>\n",
       "      <td>LEO</td>\n",
       "      <td>CCSFS SLC 40</td>\n",
       "      <td>1</td>\n",
       "      <td>1</td>\n",
       "      <td>True</td>\n",
       "      <td>False</td>\n",
       "      <td>True</td>\n",
       "      <td>5e9e3032383ecb267a34e7c7</td>\n",
       "      <td>1.0</td>\n",
       "      <td>0</td>\n",
       "      <td>B1019</td>\n",
       "      <td>-80.577366</td>\n",
       "      <td>28.561857</td>\n",
       "      <td>True</td>\n",
       "      <td>100</td>\n",
       "    </tr>\n",
       "    <tr>\n",
       "      <th>4</th>\n",
       "      <td>26</td>\n",
       "      <td>2016/1/17</td>\n",
       "      <td>Falcon 9</td>\n",
       "      <td>553.0</td>\n",
       "      <td>PO</td>\n",
       "      <td>VAFB SLC 4E</td>\n",
       "      <td>0</td>\n",
       "      <td>1</td>\n",
       "      <td>True</td>\n",
       "      <td>False</td>\n",
       "      <td>True</td>\n",
       "      <td>5e9e3033383ecbb9e534e7cc</td>\n",
       "      <td>1.0</td>\n",
       "      <td>0</td>\n",
       "      <td>B1017</td>\n",
       "      <td>-120.610829</td>\n",
       "      <td>34.632093</td>\n",
       "      <td>False</td>\n",
       "      <td>0</td>\n",
       "    </tr>\n",
       "  </tbody>\n",
       "</table>\n",
       "</div>"
      ],
      "text/plain": [
       "   FlightNumber        Date BoosterVersion  PayloadMass Orbit    LaunchSite  \\\n",
       "0            19   2015/1/10       Falcon 9       2395.0   ISS  CCSFS SLC 40   \n",
       "1            22   2015/4/14       Falcon 9       1898.0   ISS  CCSFS SLC 40   \n",
       "2            24   2015/6/28       Falcon 9       2477.0   ISS  CCSFS SLC 40   \n",
       "3            25  2015/12/22       Falcon 9       2034.0   LEO  CCSFS SLC 40   \n",
       "4            26   2016/1/17       Falcon 9        553.0    PO   VAFB SLC 4E   \n",
       "\n",
       "   Outcome  Flights  GridFins  Reused  Legs                LandingPad  Block  \\\n",
       "0        0        1      True   False  True  5e9e3032383ecb761634e7cb    1.0   \n",
       "1        0        1      True   False  True  5e9e3032383ecb761634e7cb    1.0   \n",
       "2        0        1      True   False  True  5e9e3032383ecb6bb234e7ca    1.0   \n",
       "3        1        1      True   False  True  5e9e3032383ecb267a34e7c7    1.0   \n",
       "4        0        1      True   False  True  5e9e3033383ecbb9e534e7cc    1.0   \n",
       "\n",
       "   ReusedCount Serial   Longitude   Latitude  Success  Success Rate %  \n",
       "0            0  B1012  -80.577366  28.561857    False               0  \n",
       "1            0  B1015  -80.577366  28.561857    False               0  \n",
       "2            0  B1018  -80.577366  28.561857    False               0  \n",
       "3            0  B1019  -80.577366  28.561857     True             100  \n",
       "4            0  B1017 -120.610829  34.632093    False               0  "
      ]
     },
     "execution_count": 14,
     "metadata": {},
     "output_type": "execute_result"
    }
   ],
   "source": [
    "df_label.head()"
   ]
  },
  {
   "cell_type": "code",
   "execution_count": 15,
   "id": "cf66d4f9",
   "metadata": {},
   "outputs": [
    {
     "data": {
      "image/png": "[encoded data removed]",
      "text/plain": [
       "<Figure size 1440x720 with 1 Axes>"
      ]
     },
     "metadata": {
      "needs_background": "light"
     },
     "output_type": "display_data"
    }
   ],
   "source": [
    "df_label['Success'] = df_label['Outcome']==1\n",
    "df_label['Success Rate %']=df_label['Success']*100\n",
    "\n",
    "plt.figure(figsize = (20,10))\n",
    "df_label.groupby('Orbit').mean()['Success Rate %'].plot(kind='bar',color='lightblue')\n",
    "plt.xticks(rotation=60)\n",
    "plt.xlabel(\"Orbit\",fontsize=20)\n",
    "plt.ylabel(\"Success Rate\",fontsize=20)\n",
    "plt.title(\"Success Rate vs. Orbit\",fontsize=20)\n",
    "\n",
    "plt.show()"
   ]
  },
  {
   "cell_type": "code",
   "execution_count": 16,
   "id": "cf1c5525",
   "metadata": {},
   "outputs": [
    {
     "data": {
      "image/png": "[encoded data removed]",
      "text/plain": [
       "<Figure size 1440x720 with 1 Axes>"
      ]
     },
     "metadata": {
      "needs_background": "light"
     },
     "output_type": "display_data"
    }
   ],
   "source": [
    "df_label['Success'] = df_label['Outcome']==1\n",
    "df_label['Success Rate %']=df_label['Success']*100\n",
    "\n",
    "plt.figure(figsize = (20,10))\n",
    "df_label.groupby('Flights').mean()['Success Rate %'].plot(kind='bar',color='lightblue')\n",
    "plt.xticks(rotation=60)\n",
    "plt.xlabel(\"Flights\",fontsize=20)\n",
    "plt.ylabel(\"Success Rate\",fontsize=20)\n",
    "plt.title(\"Success Rate vs. Flights\",fontsize=20)\n",
    "\n",
    "plt.show()"
   ]
  },
  {
   "cell_type": "markdown",
   "id": "9b4fe9a5",
   "metadata": {},
   "source": [
    "### PayloadMass vs. LaunchSite"
   ]
  },
  {
   "cell_type": "code",
   "execution_count": 17,
   "id": "1cc7d96c",
   "metadata": {},
   "outputs": [
    {
     "data": {
      "image/png": "[encoded data removed]",
      "text/plain": [
       "<Figure size 1548x864 with 1 Axes>"
      ]
     },
     "metadata": {
      "needs_background": "light"
     },
     "output_type": "display_data"
    }
   ],
   "source": [
    "plt.figure(figsize = (21.5,12))\n",
    "df_label.groupby('LaunchSite').mean()['PayloadMass'].plot(kind='bar',color='grey')\n",
    "plt.xticks(rotation=60)\n",
    "plt.xlabel(\"LaunchSite\",fontsize=20)\n",
    "plt.ylabel(\"PayloadMass\",fontsize=20)\n",
    "plt.title(\"PayloadMass vs. LaunchSite\",fontsize=20)\n",
    "\n",
    "plt.show()"
   ]
  },
  {
   "cell_type": "code",
   "execution_count": 18,
   "id": "e7eff207",
   "metadata": {},
   "outputs": [],
   "source": [
    "### PayloadMass vs. Orbit"
   ]
  },
  {
   "cell_type": "code",
   "execution_count": 19,
   "id": "6b47dc85",
   "metadata": {},
   "outputs": [
    {
     "data": {
      "image/png": "[encoded data removed]",
      "text/plain": [
       "<Figure size 1440x720 with 1 Axes>"
      ]
     },
     "metadata": {
      "needs_background": "light"
     },
     "output_type": "display_data"
    }
   ],
   "source": [
    "plt.figure(figsize = (20,10))\n",
    "df_label.groupby('Orbit').mean()['PayloadMass'].plot(kind='bar',color='grey')\n",
    "plt.xticks(rotation=60)\n",
    "plt.xlabel(\"Orbit\",fontsize=20)\n",
    "plt.ylabel(\"PayloadMass\",fontsize=20)\n",
    "plt.title(\"PayloadMass vs. Orbit\",fontsize=20)\n",
    "\n",
    "plt.show()"
   ]
  },
  {
   "cell_type": "code",
   "execution_count": 20,
   "id": "6b37391c",
   "metadata": {},
   "outputs": [
    {
     "data": {
      "text/html": [
       "<div>\n",
       "<style scoped>\n",
       "    .dataframe tbody tr th:only-of-type {\n",
       "        vertical-align: middle;\n",
       "    }\n",
       "\n",
       "    .dataframe tbody tr th {\n",
       "        vertical-align: top;\n",
       "    }\n",
       "\n",
       "    .dataframe thead th {\n",
       "        text-align: right;\n",
       "    }\n",
       "</style>\n",
       "<table border=\"1\" class=\"dataframe\">\n",
       "  <thead>\n",
       "    <tr style=\"text-align: right;\">\n",
       "      <th></th>\n",
       "      <th>FlightNumber</th>\n",
       "      <th>Date</th>\n",
       "      <th>BoosterVersion</th>\n",
       "      <th>PayloadMass</th>\n",
       "      <th>Orbit</th>\n",
       "      <th>LaunchSite</th>\n",
       "      <th>Outcome</th>\n",
       "      <th>Flights</th>\n",
       "      <th>GridFins</th>\n",
       "      <th>Reused</th>\n",
       "      <th>Legs</th>\n",
       "      <th>LandingPad</th>\n",
       "      <th>Block</th>\n",
       "      <th>ReusedCount</th>\n",
       "      <th>Serial</th>\n",
       "      <th>Longitude</th>\n",
       "      <th>Latitude</th>\n",
       "      <th>Success</th>\n",
       "      <th>Success Rate %</th>\n",
       "    </tr>\n",
       "  </thead>\n",
       "  <tbody>\n",
       "    <tr>\n",
       "      <th>0</th>\n",
       "      <td>19</td>\n",
       "      <td>2015/1/10</td>\n",
       "      <td>Falcon 9</td>\n",
       "      <td>2395.0</td>\n",
       "      <td>ISS</td>\n",
       "      <td>CCSFS SLC 40</td>\n",
       "      <td>0</td>\n",
       "      <td>1</td>\n",
       "      <td>True</td>\n",
       "      <td>False</td>\n",
       "      <td>True</td>\n",
       "      <td>5e9e3032383ecb761634e7cb</td>\n",
       "      <td>1.0</td>\n",
       "      <td>0</td>\n",
       "      <td>B1012</td>\n",
       "      <td>-80.577366</td>\n",
       "      <td>28.561857</td>\n",
       "      <td>False</td>\n",
       "      <td>0</td>\n",
       "    </tr>\n",
       "    <tr>\n",
       "      <th>1</th>\n",
       "      <td>22</td>\n",
       "      <td>2015/4/14</td>\n",
       "      <td>Falcon 9</td>\n",
       "      <td>1898.0</td>\n",
       "      <td>ISS</td>\n",
       "      <td>CCSFS SLC 40</td>\n",
       "      <td>0</td>\n",
       "      <td>1</td>\n",
       "      <td>True</td>\n",
       "      <td>False</td>\n",
       "      <td>True</td>\n",
       "      <td>5e9e3032383ecb761634e7cb</td>\n",
       "      <td>1.0</td>\n",
       "      <td>0</td>\n",
       "      <td>B1015</td>\n",
       "      <td>-80.577366</td>\n",
       "      <td>28.561857</td>\n",
       "      <td>False</td>\n",
       "      <td>0</td>\n",
       "    </tr>\n",
       "    <tr>\n",
       "      <th>2</th>\n",
       "      <td>24</td>\n",
       "      <td>2015/6/28</td>\n",
       "      <td>Falcon 9</td>\n",
       "      <td>2477.0</td>\n",
       "      <td>ISS</td>\n",
       "      <td>CCSFS SLC 40</td>\n",
       "      <td>0</td>\n",
       "      <td>1</td>\n",
       "      <td>True</td>\n",
       "      <td>False</td>\n",
       "      <td>True</td>\n",
       "      <td>5e9e3032383ecb6bb234e7ca</td>\n",
       "      <td>1.0</td>\n",
       "      <td>0</td>\n",
       "      <td>B1018</td>\n",
       "      <td>-80.577366</td>\n",
       "      <td>28.561857</td>\n",
       "      <td>False</td>\n",
       "      <td>0</td>\n",
       "    </tr>\n",
       "    <tr>\n",
       "      <th>3</th>\n",
       "      <td>25</td>\n",
       "      <td>2015/12/22</td>\n",
       "      <td>Falcon 9</td>\n",
       "      <td>2034.0</td>\n",
       "      <td>LEO</td>\n",
       "      <td>CCSFS SLC 40</td>\n",
       "      <td>1</td>\n",
       "      <td>1</td>\n",
       "      <td>True</td>\n",
       "      <td>False</td>\n",
       "      <td>True</td>\n",
       "      <td>5e9e3032383ecb267a34e7c7</td>\n",
       "      <td>1.0</td>\n",
       "      <td>0</td>\n",
       "      <td>B1019</td>\n",
       "      <td>-80.577366</td>\n",
       "      <td>28.561857</td>\n",
       "      <td>True</td>\n",
       "      <td>100</td>\n",
       "    </tr>\n",
       "    <tr>\n",
       "      <th>4</th>\n",
       "      <td>26</td>\n",
       "      <td>2016/1/17</td>\n",
       "      <td>Falcon 9</td>\n",
       "      <td>553.0</td>\n",
       "      <td>PO</td>\n",
       "      <td>VAFB SLC 4E</td>\n",
       "      <td>0</td>\n",
       "      <td>1</td>\n",
       "      <td>True</td>\n",
       "      <td>False</td>\n",
       "      <td>True</td>\n",
       "      <td>5e9e3033383ecbb9e534e7cc</td>\n",
       "      <td>1.0</td>\n",
       "      <td>0</td>\n",
       "      <td>B1017</td>\n",
       "      <td>-120.610829</td>\n",
       "      <td>34.632093</td>\n",
       "      <td>False</td>\n",
       "      <td>0</td>\n",
       "    </tr>\n",
       "  </tbody>\n",
       "</table>\n",
       "</div>"
      ],
      "text/plain": [
       "   FlightNumber        Date BoosterVersion  PayloadMass Orbit    LaunchSite  \\\n",
       "0            19   2015/1/10       Falcon 9       2395.0   ISS  CCSFS SLC 40   \n",
       "1            22   2015/4/14       Falcon 9       1898.0   ISS  CCSFS SLC 40   \n",
       "2            24   2015/6/28       Falcon 9       2477.0   ISS  CCSFS SLC 40   \n",
       "3            25  2015/12/22       Falcon 9       2034.0   LEO  CCSFS SLC 40   \n",
       "4            26   2016/1/17       Falcon 9        553.0    PO   VAFB SLC 4E   \n",
       "\n",
       "   Outcome  Flights  GridFins  Reused  Legs                LandingPad  Block  \\\n",
       "0        0        1      True   False  True  5e9e3032383ecb761634e7cb    1.0   \n",
       "1        0        1      True   False  True  5e9e3032383ecb761634e7cb    1.0   \n",
       "2        0        1      True   False  True  5e9e3032383ecb6bb234e7ca    1.0   \n",
       "3        1        1      True   False  True  5e9e3032383ecb267a34e7c7    1.0   \n",
       "4        0        1      True   False  True  5e9e3033383ecbb9e534e7cc    1.0   \n",
       "\n",
       "   ReusedCount Serial   Longitude   Latitude  Success  Success Rate %  \n",
       "0            0  B1012  -80.577366  28.561857    False               0  \n",
       "1            0  B1015  -80.577366  28.561857    False               0  \n",
       "2            0  B1018  -80.577366  28.561857    False               0  \n",
       "3            0  B1019  -80.577366  28.561857     True             100  \n",
       "4            0  B1017 -120.610829  34.632093    False               0  "
      ]
     },
     "execution_count": 20,
     "metadata": {},
     "output_type": "execute_result"
    }
   ],
   "source": [
    "df_label.head()"
   ]
  },
  {
   "cell_type": "markdown",
   "id": "9f0c0148",
   "metadata": {},
   "source": [
    "### PayloadMass vs. Flights"
   ]
  },
  {
   "cell_type": "code",
   "execution_count": 21,
   "id": "7ccc1c5a",
   "metadata": {},
   "outputs": [
    {
     "data": {
      "image/png": "[encoded data removed]",
      "text/plain": [
       "<Figure size 1440x720 with 1 Axes>"
      ]
     },
     "metadata": {
      "needs_background": "light"
     },
     "output_type": "display_data"
    }
   ],
   "source": [
    "plt.figure(figsize = (20,10))\n",
    "df_label.groupby('Flights').mean()['PayloadMass'].plot(kind='bar',color='grey')\n",
    "plt.xticks(rotation=60)\n",
    "plt.xlabel(\"Flights\",fontsize=20)\n",
    "plt.ylabel(\"PayloadMass\",fontsize=20)\n",
    "plt.title(\"PayloadMass vs. Flights\",fontsize=20)\n",
    "\n",
    "plt.show()"
   ]
  },
  {
   "cell_type": "code",
   "execution_count": 22,
   "id": "9b6af795",
   "metadata": {},
   "outputs": [],
   "source": [
    "import folium"
   ]
  },
  {
   "cell_type": "code",
   "execution_count": 23,
   "id": "bcd3a9cc",
   "metadata": {},
   "outputs": [
    {
     "data": {
      "text/html": [
       "<div>\n",
       "<style scoped>\n",
       "    .dataframe tbody tr th:only-of-type {\n",
       "        vertical-align: middle;\n",
       "    }\n",
       "\n",
       "    .dataframe tbody tr th {\n",
       "        vertical-align: top;\n",
       "    }\n",
       "\n",
       "    .dataframe thead th {\n",
       "        text-align: right;\n",
       "    }\n",
       "</style>\n",
       "<table border=\"1\" class=\"dataframe\">\n",
       "  <thead>\n",
       "    <tr style=\"text-align: right;\">\n",
       "      <th></th>\n",
       "      <th>LaunchSite</th>\n",
       "    </tr>\n",
       "  </thead>\n",
       "  <tbody>\n",
       "    <tr>\n",
       "      <th>CCSFS SLC 40</th>\n",
       "      <td>55</td>\n",
       "    </tr>\n",
       "    <tr>\n",
       "      <th>KSC LC 39A</th>\n",
       "      <td>22</td>\n",
       "    </tr>\n",
       "    <tr>\n",
       "      <th>VAFB SLC 4E</th>\n",
       "      <td>13</td>\n",
       "    </tr>\n",
       "    <tr>\n",
       "      <th>Kwajalein Atoll</th>\n",
       "      <td>4</td>\n",
       "    </tr>\n",
       "  </tbody>\n",
       "</table>\n",
       "</div>"
      ],
      "text/plain": [
       "                 LaunchSite\n",
       "CCSFS SLC 40             55\n",
       "KSC LC 39A               22\n",
       "VAFB SLC 4E              13\n",
       "Kwajalein Atoll           4"
      ]
     },
     "execution_count": 23,
     "metadata": {},
     "output_type": "execute_result"
    }
   ],
   "source": [
    "LaunchSite_count"
   ]
  },
  {
   "cell_type": "markdown",
   "id": "9a9ff148",
   "metadata": {},
   "source": [
    "### Success Rate in CCSFS SLC 40"
   ]
  },
  {
   "cell_type": "code",
   "execution_count": 24,
   "id": "96b76c86",
   "metadata": {},
   "outputs": [
    {
     "data": {
      "image/png": "[encoded data removed]",
      "text/plain": [
       "<Figure size 432x432 with 1 Axes>"
      ]
     },
     "metadata": {},
     "output_type": "display_data"
    }
   ],
   "source": [
    "CCSFS = df_label.loc[df_label['LaunchSite']=='CCSFS SLC 40']\n",
    "Outcome_CCSFS = CCSFS['Outcome'].value_counts().to_frame()\n",
    "\n",
    "plt.figure(figsize = (6,6))\n",
    "plt.pie(Outcome_CCSFS['Outcome'], \n",
    "        labels = list(Outcome_CCSFS.index), \n",
    "        autopct = '%.2f%%' )\n",
    "plt.show()"
   ]
  },
  {
   "cell_type": "markdown",
   "id": "13a70148",
   "metadata": {},
   "source": [
    "### Success Rate in KSC LC 39A"
   ]
  },
  {
   "cell_type": "code",
   "execution_count": 25,
   "id": "c65f7072",
   "metadata": {},
   "outputs": [
    {
     "data": {
      "image/png": "[encoded data removed]",
      "text/plain": [
       "<Figure size 432x432 with 1 Axes>"
      ]
     },
     "metadata": {},
     "output_type": "display_data"
    }
   ],
   "source": [
    "KSC = df_label.loc[df_label['LaunchSite']=='KSC LC 39A']\n",
    "Outcome_KSC = KSC['Outcome'].value_counts().to_frame()\n",
    "\n",
    "plt.figure(figsize = (6,6))\n",
    "plt.pie(Outcome_KSC['Outcome'], \n",
    "        labels = list(Outcome_KSC.index), \n",
    "        autopct = '%.2f%%' )\n",
    "plt.show()"
   ]
  },
  {
   "cell_type": "markdown",
   "id": "c96e466d",
   "metadata": {},
   "source": [
    "### Success Rate in VAFB SLC 4E"
   ]
  },
  {
   "cell_type": "code",
   "execution_count": 26,
   "id": "57260761",
   "metadata": {},
   "outputs": [
    {
     "data": {
      "text/plain": [
       "([<matplotlib.patches.Wedge at 0x7fb75962aa90>,\n",
       "  <matplotlib.patches.Wedge at 0x7fb759553c10>],\n",
       " [Text(-1.0461621424642782, 0.33991877217145816, '1'),\n",
       "  Text(1.0461621185951564, -0.3399188456330337, '0')],\n",
       " [Text(-0.5706338958896062, 0.18541023936624987, '90.00%'),\n",
       "  Text(0.5706338828700852, -0.18541027943620017, '10.00%')])"
      ]
     },
     "execution_count": 26,
     "metadata": {},
     "output_type": "execute_result"
    },
    {
     "data": {
      "image/png": "[encoded data removed]",
      "text/plain": [
       "<Figure size 432x432 with 1 Axes>"
      ]
     },
     "metadata": {},
     "output_type": "display_data"
    }
   ],
   "source": [
    "VAFB = df_label.loc[df_label['LaunchSite']=='VAFB SLC 4E']\n",
    "Outcome_VAFB = VAFB['Outcome'].value_counts().to_frame()\n",
    "\n",
    "plt.figure(figsize = (6,6))\n",
    "plt.pie(Outcome_VAFB['Outcome'], \n",
    "        labels = list(Outcome_VAFB.index), \n",
    "        autopct = '%.2f%%' )\n",
    "# plt.show()\n",
    "\n"
   ]
  }
 ],
 "metadata": {
  "celltoolbar": "Raw Cell Format",
  "kernelspec": {
   "display_name": "Python 3 (ipykernel)",
   "language": "python",
   "name": "python3"
  },
  "language_info": {
   "codemirror_mode": {
    "name": "ipython",
    "version": 3
   },
   "file_extension": ".py",
   "mimetype": "text/x-python",
   "name": "python",
   "nbconvert_exporter": "python",
   "pygments_lexer": "ipython3",
   "version": "3.9.7"
  }
 },
 "nbformat": 4,
 "nbformat_minor": 5
}
