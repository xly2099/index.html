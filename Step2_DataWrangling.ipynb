{
 "cells": [
  {
   "cell_type": "code",
   "execution_count": 31,
   "id": "5ce5d696",
   "metadata": {},
   "outputs": [],
   "source": [
    "import pandas as pd\n",
    "import numpy as np\n",
    "import matplotlib.pyplot as plt\n",
    "from plotly.subplots import make_subplots\n",
    "from sklearn.preprocessing import LabelEncoder\n",
    "import seaborn as sns\n"
   ]
  },
  {
   "cell_type": "code",
   "execution_count": 2,
   "id": "61cbbaaa",
   "metadata": {},
   "outputs": [],
   "source": [
    "df = pd.read_csv('dataset_space_API_past_launches_raw.csv')"
   ]
  },
  {
   "cell_type": "markdown",
   "id": "afb44c20",
   "metadata": {},
   "source": [
    "# Data Wrangling"
   ]
  },
  {
   "cell_type": "code",
   "execution_count": 5,
   "id": "865446e7",
   "metadata": {
    "scrolled": true
   },
   "outputs": [
    {
     "data": {
      "text/html": [
       "<div>\n",
       "<style scoped>\n",
       "    .dataframe tbody tr th:only-of-type {\n",
       "        vertical-align: middle;\n",
       "    }\n",
       "\n",
       "    .dataframe tbody tr th {\n",
       "        vertical-align: top;\n",
       "    }\n",
       "\n",
       "    .dataframe thead th {\n",
       "        text-align: right;\n",
       "    }\n",
       "</style>\n",
       "<table border=\"1\" class=\"dataframe\">\n",
       "  <thead>\n",
       "    <tr style=\"text-align: right;\">\n",
       "      <th></th>\n",
       "      <th>FlightNumber</th>\n",
       "      <th>Date</th>\n",
       "      <th>BoosterVersion</th>\n",
       "      <th>PayloadMass</th>\n",
       "      <th>Orbit</th>\n",
       "      <th>LaunchSite</th>\n",
       "      <th>Outcome</th>\n",
       "      <th>Flights</th>\n",
       "      <th>GridFins</th>\n",
       "      <th>Reused</th>\n",
       "      <th>Legs</th>\n",
       "      <th>LandingPad</th>\n",
       "      <th>Block</th>\n",
       "      <th>ReusedCount</th>\n",
       "      <th>Serial</th>\n",
       "      <th>Longitude</th>\n",
       "      <th>Latitude</th>\n",
       "    </tr>\n",
       "  </thead>\n",
       "  <tbody>\n",
       "    <tr>\n",
       "      <th>0</th>\n",
       "      <td>1</td>\n",
       "      <td>2006/3/24</td>\n",
       "      <td>Falcon 1</td>\n",
       "      <td>20.0</td>\n",
       "      <td>LEO</td>\n",
       "      <td>Kwajalein Atoll</td>\n",
       "      <td>None None</td>\n",
       "      <td>1</td>\n",
       "      <td>False</td>\n",
       "      <td>False</td>\n",
       "      <td>False</td>\n",
       "      <td>NaN</td>\n",
       "      <td>NaN</td>\n",
       "      <td>0</td>\n",
       "      <td>Merlin1A</td>\n",
       "      <td>167.743129</td>\n",
       "      <td>9.047721</td>\n",
       "    </tr>\n",
       "    <tr>\n",
       "      <th>1</th>\n",
       "      <td>2</td>\n",
       "      <td>2007/3/21</td>\n",
       "      <td>Falcon 1</td>\n",
       "      <td>NaN</td>\n",
       "      <td>LEO</td>\n",
       "      <td>Kwajalein Atoll</td>\n",
       "      <td>None None</td>\n",
       "      <td>1</td>\n",
       "      <td>False</td>\n",
       "      <td>False</td>\n",
       "      <td>False</td>\n",
       "      <td>NaN</td>\n",
       "      <td>NaN</td>\n",
       "      <td>0</td>\n",
       "      <td>Merlin2A</td>\n",
       "      <td>167.743129</td>\n",
       "      <td>9.047721</td>\n",
       "    </tr>\n",
       "    <tr>\n",
       "      <th>2</th>\n",
       "      <td>4</td>\n",
       "      <td>2008/9/28</td>\n",
       "      <td>Falcon 1</td>\n",
       "      <td>165.0</td>\n",
       "      <td>LEO</td>\n",
       "      <td>Kwajalein Atoll</td>\n",
       "      <td>None None</td>\n",
       "      <td>1</td>\n",
       "      <td>False</td>\n",
       "      <td>False</td>\n",
       "      <td>False</td>\n",
       "      <td>NaN</td>\n",
       "      <td>NaN</td>\n",
       "      <td>0</td>\n",
       "      <td>Merlin2C</td>\n",
       "      <td>167.743129</td>\n",
       "      <td>9.047721</td>\n",
       "    </tr>\n",
       "    <tr>\n",
       "      <th>3</th>\n",
       "      <td>5</td>\n",
       "      <td>2009/7/13</td>\n",
       "      <td>Falcon 1</td>\n",
       "      <td>200.0</td>\n",
       "      <td>LEO</td>\n",
       "      <td>Kwajalein Atoll</td>\n",
       "      <td>None None</td>\n",
       "      <td>1</td>\n",
       "      <td>False</td>\n",
       "      <td>False</td>\n",
       "      <td>False</td>\n",
       "      <td>NaN</td>\n",
       "      <td>NaN</td>\n",
       "      <td>0</td>\n",
       "      <td>Merlin3C</td>\n",
       "      <td>167.743129</td>\n",
       "      <td>9.047721</td>\n",
       "    </tr>\n",
       "    <tr>\n",
       "      <th>4</th>\n",
       "      <td>6</td>\n",
       "      <td>2010/6/4</td>\n",
       "      <td>Falcon 9</td>\n",
       "      <td>NaN</td>\n",
       "      <td>LEO</td>\n",
       "      <td>CCSFS SLC 40</td>\n",
       "      <td>None None</td>\n",
       "      <td>1</td>\n",
       "      <td>False</td>\n",
       "      <td>False</td>\n",
       "      <td>False</td>\n",
       "      <td>NaN</td>\n",
       "      <td>1.0</td>\n",
       "      <td>0</td>\n",
       "      <td>B0003</td>\n",
       "      <td>-80.577366</td>\n",
       "      <td>28.561857</td>\n",
       "    </tr>\n",
       "  </tbody>\n",
       "</table>\n",
       "</div>"
      ],
      "text/plain": [
       "   FlightNumber       Date BoosterVersion  PayloadMass Orbit       LaunchSite  \\\n",
       "0             1  2006/3/24       Falcon 1         20.0   LEO  Kwajalein Atoll   \n",
       "1             2  2007/3/21       Falcon 1          NaN   LEO  Kwajalein Atoll   \n",
       "2             4  2008/9/28       Falcon 1        165.0   LEO  Kwajalein Atoll   \n",
       "3             5  2009/7/13       Falcon 1        200.0   LEO  Kwajalein Atoll   \n",
       "4             6   2010/6/4       Falcon 9          NaN   LEO     CCSFS SLC 40   \n",
       "\n",
       "     Outcome  Flights  GridFins  Reused   Legs LandingPad  Block  ReusedCount  \\\n",
       "0  None None        1     False   False  False        NaN    NaN            0   \n",
       "1  None None        1     False   False  False        NaN    NaN            0   \n",
       "2  None None        1     False   False  False        NaN    NaN            0   \n",
       "3  None None        1     False   False  False        NaN    NaN            0   \n",
       "4  None None        1     False   False  False        NaN    1.0            0   \n",
       "\n",
       "     Serial   Longitude   Latitude  \n",
       "0  Merlin1A  167.743129   9.047721  \n",
       "1  Merlin2A  167.743129   9.047721  \n",
       "2  Merlin2C  167.743129   9.047721  \n",
       "3  Merlin3C  167.743129   9.047721  \n",
       "4     B0003  -80.577366  28.561857  "
      ]
     },
     "execution_count": 5,
     "metadata": {},
     "output_type": "execute_result"
    }
   ],
   "source": [
    "df.head()"
   ]
  },
  {
   "cell_type": "code",
   "execution_count": 6,
   "id": "bdb54527",
   "metadata": {},
   "outputs": [
    {
     "data": {
      "text/html": [
       "<div>\n",
       "<style scoped>\n",
       "    .dataframe tbody tr th:only-of-type {\n",
       "        vertical-align: middle;\n",
       "    }\n",
       "\n",
       "    .dataframe tbody tr th {\n",
       "        vertical-align: top;\n",
       "    }\n",
       "\n",
       "    .dataframe thead th {\n",
       "        text-align: right;\n",
       "    }\n",
       "</style>\n",
       "<table border=\"1\" class=\"dataframe\">\n",
       "  <thead>\n",
       "    <tr style=\"text-align: right;\">\n",
       "      <th></th>\n",
       "      <th>FlightNumber</th>\n",
       "      <th>PayloadMass</th>\n",
       "      <th>Flights</th>\n",
       "      <th>GridFins</th>\n",
       "      <th>Reused</th>\n",
       "      <th>Legs</th>\n",
       "      <th>Block</th>\n",
       "      <th>ReusedCount</th>\n",
       "      <th>Longitude</th>\n",
       "      <th>Latitude</th>\n",
       "    </tr>\n",
       "  </thead>\n",
       "  <tbody>\n",
       "    <tr>\n",
       "      <th>0</th>\n",
       "      <td>1</td>\n",
       "      <td>20.0</td>\n",
       "      <td>1</td>\n",
       "      <td>False</td>\n",
       "      <td>False</td>\n",
       "      <td>False</td>\n",
       "      <td>NaN</td>\n",
       "      <td>0</td>\n",
       "      <td>167.743129</td>\n",
       "      <td>9.047721</td>\n",
       "    </tr>\n",
       "    <tr>\n",
       "      <th>1</th>\n",
       "      <td>2</td>\n",
       "      <td>NaN</td>\n",
       "      <td>1</td>\n",
       "      <td>False</td>\n",
       "      <td>False</td>\n",
       "      <td>False</td>\n",
       "      <td>NaN</td>\n",
       "      <td>0</td>\n",
       "      <td>167.743129</td>\n",
       "      <td>9.047721</td>\n",
       "    </tr>\n",
       "    <tr>\n",
       "      <th>2</th>\n",
       "      <td>4</td>\n",
       "      <td>165.0</td>\n",
       "      <td>1</td>\n",
       "      <td>False</td>\n",
       "      <td>False</td>\n",
       "      <td>False</td>\n",
       "      <td>NaN</td>\n",
       "      <td>0</td>\n",
       "      <td>167.743129</td>\n",
       "      <td>9.047721</td>\n",
       "    </tr>\n",
       "    <tr>\n",
       "      <th>3</th>\n",
       "      <td>5</td>\n",
       "      <td>200.0</td>\n",
       "      <td>1</td>\n",
       "      <td>False</td>\n",
       "      <td>False</td>\n",
       "      <td>False</td>\n",
       "      <td>NaN</td>\n",
       "      <td>0</td>\n",
       "      <td>167.743129</td>\n",
       "      <td>9.047721</td>\n",
       "    </tr>\n",
       "    <tr>\n",
       "      <th>4</th>\n",
       "      <td>6</td>\n",
       "      <td>NaN</td>\n",
       "      <td>1</td>\n",
       "      <td>False</td>\n",
       "      <td>False</td>\n",
       "      <td>False</td>\n",
       "      <td>1.0</td>\n",
       "      <td>0</td>\n",
       "      <td>-80.577366</td>\n",
       "      <td>28.561857</td>\n",
       "    </tr>\n",
       "  </tbody>\n",
       "</table>\n",
       "</div>"
      ],
      "text/plain": [
       "   FlightNumber  PayloadMass  Flights  GridFins  Reused   Legs  Block  \\\n",
       "0             1         20.0        1     False   False  False    NaN   \n",
       "1             2          NaN        1     False   False  False    NaN   \n",
       "2             4        165.0        1     False   False  False    NaN   \n",
       "3             5        200.0        1     False   False  False    NaN   \n",
       "4             6          NaN        1     False   False  False    1.0   \n",
       "\n",
       "   ReusedCount   Longitude   Latitude  \n",
       "0            0  167.743129   9.047721  \n",
       "1            0  167.743129   9.047721  \n",
       "2            0  167.743129   9.047721  \n",
       "3            0  167.743129   9.047721  \n",
       "4            0  -80.577366  28.561857  "
      ]
     },
     "execution_count": 6,
     "metadata": {},
     "output_type": "execute_result"
    }
   ],
   "source": [
    "# get numeric column\n",
    "df._get_numeric_data().head()"
   ]
  },
  {
   "cell_type": "code",
   "execution_count": 7,
   "id": "827a841f",
   "metadata": {},
   "outputs": [],
   "source": [
    "Date_count = df['Date'].value_counts().to_frame()\n",
    "BoosterVersion_count = df['BoosterVersion'].value_counts().to_frame()\n",
    "PayloadMass_count = df['PayloadMass'].value_counts().to_frame()\n",
    "Orbit_count = df['Orbit'].value_counts().to_frame()\n",
    "LaunchSite_count = df['LaunchSite'].value_counts().to_frame()\n",
    "Outcome_count = df['Outcome'].value_counts().to_frame()\n",
    "Flights_count = df['Flights'].value_counts().to_frame()\n",
    "GridFins_count = df['GridFins'].value_counts().to_frame()\n",
    "Reused_count = df['Reused'].value_counts().to_frame()\n",
    "Legs_count = df['Legs'].value_counts().to_frame()\n",
    "LandingPad_count = df['LandingPad'].value_counts().to_frame()\n",
    "Block_count = df['Block'].value_counts().to_frame()\n",
    "ReusedCount_count = df['ReusedCount'].value_counts().to_frame()\n",
    "Serial_count = df['Serial'].value_counts().to_frame()\n",
    "Longitude_count = df['Longitude'].value_counts().to_frame()\n",
    "Latitude_count = df['Latitude'].value_counts().to_frame()"
   ]
  },
  {
   "cell_type": "markdown",
   "id": "4135cf80",
   "metadata": {},
   "source": [
    "### the number of Falcon 9 and Falcon 1"
   ]
  },
  {
   "cell_type": "code",
   "execution_count": 8,
   "id": "c9d37496",
   "metadata": {},
   "outputs": [
    {
     "data": {
      "image/png": "[encoded data removed]",
      "text/plain": [
       "<Figure size 432x432 with 1 Axes>"
      ]
     },
     "metadata": {},
     "output_type": "display_data"
    }
   ],
   "source": [
    "plt.figure(figsize = (6,6))\n",
    "plt.pie(BoosterVersion_count['BoosterVersion'], \n",
    "        labels=list(BoosterVersion_count.index), \n",
    "        autopct='%.2f%%' )\n",
    "plt.show()"
   ]
  },
  {
   "cell_type": "markdown",
   "id": "04aa9ae9",
   "metadata": {},
   "source": [
    "### the number of each Orbit"
   ]
  },
  {
   "cell_type": "code",
   "execution_count": 9,
   "id": "152cb4bf",
   "metadata": {},
   "outputs": [
    {
     "data": {
      "image/png": "[encoded data removed]",
      "text/plain": [
       "<Figure size 432x288 with 1 Axes>"
      ]
     },
     "metadata": {
      "needs_background": "light"
     },
     "output_type": "display_data"
    }
   ],
   "source": [
    "plt.bar(list(Orbit_count.index), Orbit_count['Orbit'])\n",
    "plt.show()"
   ]
  },
  {
   "cell_type": "markdown",
   "id": "df1198e9",
   "metadata": {},
   "source": [
    "### the number of each LaunchSite"
   ]
  },
  {
   "cell_type": "code",
   "execution_count": 10,
   "id": "ca0bc8df",
   "metadata": {},
   "outputs": [
    {
     "data": {
      "image/png": "[encoded data removed]",
      "text/plain": [
       "<Figure size 432x288 with 1 Axes>"
      ]
     },
     "metadata": {
      "needs_background": "light"
     },
     "output_type": "display_data"
    }
   ],
   "source": [
    "plt.bar(list(LaunchSite_count.index), LaunchSite_count['LaunchSite'])\n",
    "plt.show()"
   ]
  },
  {
   "cell_type": "markdown",
   "id": "e2621592",
   "metadata": {},
   "source": [
    "### the number each Outcome"
   ]
  },
  {
   "cell_type": "code",
   "execution_count": 11,
   "id": "13b49d11",
   "metadata": {},
   "outputs": [
    {
     "data": {
      "image/png": "[encoded data removed]",
      "text/plain": [
       "<Figure size 864x432 with 1 Axes>"
      ]
     },
     "metadata": {
      "needs_background": "light"
     },
     "output_type": "display_data"
    }
   ],
   "source": [
    "plt.figure(figsize = (12,6))\n",
    "plt.bar(list(Outcome_count.index), Outcome_count['Outcome'])\n",
    "plt.show()"
   ]
  },
  {
   "cell_type": "markdown",
   "id": "bcf983e1",
   "metadata": {},
   "source": [
    "### the number of each Flights"
   ]
  },
  {
   "cell_type": "code",
   "execution_count": 12,
   "id": "556a217d",
   "metadata": {},
   "outputs": [
    {
     "data": {
      "image/png": "[encoded data removed]",
      "text/plain": [
       "<Figure size 864x432 with 1 Axes>"
      ]
     },
     "metadata": {
      "needs_background": "light"
     },
     "output_type": "display_data"
    }
   ],
   "source": [
    "Flights_count\n",
    "plt.figure(figsize = (12,6))\n",
    "plt.bar(list(Flights_count.index), Flights_count['Flights'])\n",
    "plt.show()"
   ]
  },
  {
   "cell_type": "markdown",
   "id": "ce8a6cf2",
   "metadata": {},
   "source": [
    "### Whether Grid Fins were used"
   ]
  },
  {
   "cell_type": "code",
   "execution_count": 13,
   "id": "c00ecfdc",
   "metadata": {},
   "outputs": [
    {
     "data": {
      "image/png": "[encoded data removed]",
      "text/plain": [
       "<Figure size 432x432 with 1 Axes>"
      ]
     },
     "metadata": {},
     "output_type": "display_data"
    }
   ],
   "source": [
    "plt.figure(figsize = (6,6))\n",
    "plt.pie(GridFins_count['GridFins'], \n",
    "        labels = list(GridFins_count.index), \n",
    "        autopct = '%.2f%%' )\n",
    "plt.show()"
   ]
  },
  {
   "cell_type": "markdown",
   "id": "5e303086",
   "metadata": {},
   "source": [
    "### whether the core is reused"
   ]
  },
  {
   "cell_type": "code",
   "execution_count": 14,
   "id": "700e7b5e",
   "metadata": {},
   "outputs": [
    {
     "data": {
      "image/png": "[encoded data removed]",
      "text/plain": [
       "<Figure size 432x432 with 1 Axes>"
      ]
     },
     "metadata": {},
     "output_type": "display_data"
    }
   ],
   "source": [
    "plt.figure(figsize = (6,6))\n",
    "plt.pie(Reused_count['Reused'], \n",
    "        labels = list(Reused_count.index), \n",
    "        autopct = '%.2f%%' )\n",
    "plt.show()"
   ]
  },
  {
   "cell_type": "markdown",
   "id": "89a8acfc",
   "metadata": {},
   "source": [
    "### whether legs were reused"
   ]
  },
  {
   "cell_type": "code",
   "execution_count": 15,
   "id": "567315a8",
   "metadata": {},
   "outputs": [
    {
     "data": {
      "image/png": "[encoded data removed]",
      "text/plain": [
       "<Figure size 432x432 with 1 Axes>"
      ]
     },
     "metadata": {},
     "output_type": "display_data"
    }
   ],
   "source": [
    "plt.figure(figsize = (6,6))\n",
    "plt.pie(Legs_count['Legs'], \n",
    "        labels = list(Legs_count.index), \n",
    "        autopct = '%.2f%%' )\n",
    "plt.show()"
   ]
  },
  {
   "cell_type": "markdown",
   "id": "0aa920a7",
   "metadata": {},
   "source": [
    "### number of type of landing pad used"
   ]
  },
  {
   "cell_type": "code",
   "execution_count": 16,
   "id": "1fe44540",
   "metadata": {},
   "outputs": [
    {
     "data": {
      "image/png": "[encoded data removed]",
      "text/plain": [
       "<Figure size 1152x432 with 1 Axes>"
      ]
     },
     "metadata": {
      "needs_background": "light"
     },
     "output_type": "display_data"
    }
   ],
   "source": [
    "LandingPad_count\n",
    "plt.figure(figsize = (16,6))\n",
    "plt.bar(list(LandingPad_count.index), LandingPad_count['LandingPad'])\n",
    "plt.show()"
   ]
  },
  {
   "cell_type": "markdown",
   "id": "3995f0ea",
   "metadata": {},
   "source": [
    "### Block"
   ]
  },
  {
   "cell_type": "code",
   "execution_count": 17,
   "id": "afb0e2ff",
   "metadata": {},
   "outputs": [
    {
     "data": {
      "image/png": "[encoded data removed]",
      "text/plain": [
       "<Figure size 864x432 with 1 Axes>"
      ]
     },
     "metadata": {
      "needs_background": "light"
     },
     "output_type": "display_data"
    }
   ],
   "source": [
    "plt.figure(figsize = (12,6))\n",
    "plt.bar(list(Block_count.index), Block_count['Block'])\n",
    "plt.show()"
   ]
  },
  {
   "cell_type": "markdown",
   "id": "f228ea6a",
   "metadata": {},
   "source": [
    "### Serial"
   ]
  },
  {
   "cell_type": "code",
   "execution_count": 18,
   "id": "835ba7de",
   "metadata": {},
   "outputs": [
    {
     "data": {
      "text/html": [
       "<div>\n",
       "<style scoped>\n",
       "    .dataframe tbody tr th:only-of-type {\n",
       "        vertical-align: middle;\n",
       "    }\n",
       "\n",
       "    .dataframe tbody tr th {\n",
       "        vertical-align: top;\n",
       "    }\n",
       "\n",
       "    .dataframe thead th {\n",
       "        text-align: right;\n",
       "    }\n",
       "</style>\n",
       "<table border=\"1\" class=\"dataframe\">\n",
       "  <thead>\n",
       "    <tr style=\"text-align: right;\">\n",
       "      <th></th>\n",
       "      <th>Serial</th>\n",
       "    </tr>\n",
       "  </thead>\n",
       "  <tbody>\n",
       "    <tr>\n",
       "      <th>B1049</th>\n",
       "      <td>6</td>\n",
       "    </tr>\n",
       "    <tr>\n",
       "      <th>B1051</th>\n",
       "      <td>5</td>\n",
       "    </tr>\n",
       "    <tr>\n",
       "      <th>B1048</th>\n",
       "      <td>4</td>\n",
       "    </tr>\n",
       "    <tr>\n",
       "      <th>B1059</th>\n",
       "      <td>4</td>\n",
       "    </tr>\n",
       "    <tr>\n",
       "      <th>B1056</th>\n",
       "      <td>4</td>\n",
       "    </tr>\n",
       "  </tbody>\n",
       "</table>\n",
       "</div>"
      ],
      "text/plain": [
       "       Serial\n",
       "B1049       6\n",
       "B1051       5\n",
       "B1048       4\n",
       "B1059       4\n",
       "B1056       4"
      ]
     },
     "execution_count": 18,
     "metadata": {},
     "output_type": "execute_result"
    }
   ],
   "source": [
    "Serial_count.head()"
   ]
  },
  {
   "cell_type": "code",
   "execution_count": 19,
   "id": "09e96668",
   "metadata": {},
   "outputs": [],
   "source": [
    "# Longitude_count"
   ]
  },
  {
   "cell_type": "code",
   "execution_count": 20,
   "id": "c83b65de",
   "metadata": {},
   "outputs": [],
   "source": [
    "# Latitude_count"
   ]
  },
  {
   "cell_type": "markdown",
   "id": "f35c4b7b",
   "metadata": {},
   "source": [
    "### The percentage of the missing values in each attribute"
   ]
  },
  {
   "cell_type": "code",
   "execution_count": 21,
   "id": "ee1c0b59",
   "metadata": {},
   "outputs": [
    {
     "data": {
      "text/html": [
       "<div>\n",
       "<style scoped>\n",
       "    .dataframe tbody tr th:only-of-type {\n",
       "        vertical-align: middle;\n",
       "    }\n",
       "\n",
       "    .dataframe tbody tr th {\n",
       "        vertical-align: top;\n",
       "    }\n",
       "\n",
       "    .dataframe thead th {\n",
       "        text-align: right;\n",
       "    }\n",
       "</style>\n",
       "<table border=\"1\" class=\"dataframe\">\n",
       "  <thead>\n",
       "    <tr style=\"text-align: right;\">\n",
       "      <th></th>\n",
       "      <th>column_name</th>\n",
       "      <th>percent_missing</th>\n",
       "    </tr>\n",
       "  </thead>\n",
       "  <tbody>\n",
       "    <tr>\n",
       "      <th>FlightNumber</th>\n",
       "      <td>FlightNumber</td>\n",
       "      <td>0.000000</td>\n",
       "    </tr>\n",
       "    <tr>\n",
       "      <th>Date</th>\n",
       "      <td>Date</td>\n",
       "      <td>0.000000</td>\n",
       "    </tr>\n",
       "    <tr>\n",
       "      <th>BoosterVersion</th>\n",
       "      <td>BoosterVersion</td>\n",
       "      <td>0.000000</td>\n",
       "    </tr>\n",
       "    <tr>\n",
       "      <th>PayloadMass</th>\n",
       "      <td>PayloadMass</td>\n",
       "      <td>6.382979</td>\n",
       "    </tr>\n",
       "    <tr>\n",
       "      <th>Orbit</th>\n",
       "      <td>Orbit</td>\n",
       "      <td>0.000000</td>\n",
       "    </tr>\n",
       "    <tr>\n",
       "      <th>LaunchSite</th>\n",
       "      <td>LaunchSite</td>\n",
       "      <td>0.000000</td>\n",
       "    </tr>\n",
       "    <tr>\n",
       "      <th>Outcome</th>\n",
       "      <td>Outcome</td>\n",
       "      <td>0.000000</td>\n",
       "    </tr>\n",
       "    <tr>\n",
       "      <th>Flights</th>\n",
       "      <td>Flights</td>\n",
       "      <td>0.000000</td>\n",
       "    </tr>\n",
       "    <tr>\n",
       "      <th>GridFins</th>\n",
       "      <td>GridFins</td>\n",
       "      <td>0.000000</td>\n",
       "    </tr>\n",
       "    <tr>\n",
       "      <th>Reused</th>\n",
       "      <td>Reused</td>\n",
       "      <td>0.000000</td>\n",
       "    </tr>\n",
       "    <tr>\n",
       "      <th>Legs</th>\n",
       "      <td>Legs</td>\n",
       "      <td>0.000000</td>\n",
       "    </tr>\n",
       "    <tr>\n",
       "      <th>LandingPad</th>\n",
       "      <td>LandingPad</td>\n",
       "      <td>31.914894</td>\n",
       "    </tr>\n",
       "    <tr>\n",
       "      <th>Block</th>\n",
       "      <td>Block</td>\n",
       "      <td>4.255319</td>\n",
       "    </tr>\n",
       "    <tr>\n",
       "      <th>ReusedCount</th>\n",
       "      <td>ReusedCount</td>\n",
       "      <td>0.000000</td>\n",
       "    </tr>\n",
       "    <tr>\n",
       "      <th>Serial</th>\n",
       "      <td>Serial</td>\n",
       "      <td>0.000000</td>\n",
       "    </tr>\n",
       "    <tr>\n",
       "      <th>Longitude</th>\n",
       "      <td>Longitude</td>\n",
       "      <td>0.000000</td>\n",
       "    </tr>\n",
       "    <tr>\n",
       "      <th>Latitude</th>\n",
       "      <td>Latitude</td>\n",
       "      <td>0.000000</td>\n",
       "    </tr>\n",
       "  </tbody>\n",
       "</table>\n",
       "</div>"
      ],
      "text/plain": [
       "                   column_name  percent_missing\n",
       "FlightNumber      FlightNumber         0.000000\n",
       "Date                      Date         0.000000\n",
       "BoosterVersion  BoosterVersion         0.000000\n",
       "PayloadMass        PayloadMass         6.382979\n",
       "Orbit                    Orbit         0.000000\n",
       "LaunchSite          LaunchSite         0.000000\n",
       "Outcome                Outcome         0.000000\n",
       "Flights                Flights         0.000000\n",
       "GridFins              GridFins         0.000000\n",
       "Reused                  Reused         0.000000\n",
       "Legs                      Legs         0.000000\n",
       "LandingPad          LandingPad        31.914894\n",
       "Block                    Block         4.255319\n",
       "ReusedCount        ReusedCount         0.000000\n",
       "Serial                  Serial         0.000000\n",
       "Longitude            Longitude         0.000000\n",
       "Latitude              Latitude         0.000000"
      ]
     },
     "execution_count": 21,
     "metadata": {},
     "output_type": "execute_result"
    }
   ],
   "source": [
    "percent_missing = df.isnull().sum() * 100 / len(df)\n",
    "percentage = pd.DataFrame({'column_name': df.columns,\n",
    "                                 'percent_missing': percent_missing})\n",
    "percentage"
   ]
  },
  {
   "cell_type": "markdown",
   "id": "3f10cd4e",
   "metadata": {},
   "source": [
    "### Dealling with missing values"
   ]
  },
  {
   "cell_type": "code",
   "execution_count": 22,
   "id": "e77b2517",
   "metadata": {},
   "outputs": [
    {
     "data": {
      "text/html": [
       "<div>\n",
       "<style scoped>\n",
       "    .dataframe tbody tr th:only-of-type {\n",
       "        vertical-align: middle;\n",
       "    }\n",
       "\n",
       "    .dataframe tbody tr th {\n",
       "        vertical-align: top;\n",
       "    }\n",
       "\n",
       "    .dataframe thead th {\n",
       "        text-align: right;\n",
       "    }\n",
       "</style>\n",
       "<table border=\"1\" class=\"dataframe\">\n",
       "  <thead>\n",
       "    <tr style=\"text-align: right;\">\n",
       "      <th></th>\n",
       "      <th>FlightNumber</th>\n",
       "      <th>Date</th>\n",
       "      <th>BoosterVersion</th>\n",
       "      <th>PayloadMass</th>\n",
       "      <th>Orbit</th>\n",
       "      <th>LaunchSite</th>\n",
       "      <th>Outcome</th>\n",
       "      <th>Flights</th>\n",
       "      <th>GridFins</th>\n",
       "      <th>Reused</th>\n",
       "      <th>Legs</th>\n",
       "      <th>LandingPad</th>\n",
       "      <th>Block</th>\n",
       "      <th>ReusedCount</th>\n",
       "      <th>Serial</th>\n",
       "      <th>Longitude</th>\n",
       "      <th>Latitude</th>\n",
       "    </tr>\n",
       "  </thead>\n",
       "  <tbody>\n",
       "    <tr>\n",
       "      <th>0</th>\n",
       "      <td>19</td>\n",
       "      <td>2015/1/10</td>\n",
       "      <td>Falcon 9</td>\n",
       "      <td>2395.0</td>\n",
       "      <td>ISS</td>\n",
       "      <td>CCSFS SLC 40</td>\n",
       "      <td>False ASDS</td>\n",
       "      <td>1</td>\n",
       "      <td>True</td>\n",
       "      <td>False</td>\n",
       "      <td>True</td>\n",
       "      <td>5e9e3032383ecb761634e7cb</td>\n",
       "      <td>1.0</td>\n",
       "      <td>0</td>\n",
       "      <td>B1012</td>\n",
       "      <td>-80.577366</td>\n",
       "      <td>28.561857</td>\n",
       "    </tr>\n",
       "    <tr>\n",
       "      <th>1</th>\n",
       "      <td>22</td>\n",
       "      <td>2015/4/14</td>\n",
       "      <td>Falcon 9</td>\n",
       "      <td>1898.0</td>\n",
       "      <td>ISS</td>\n",
       "      <td>CCSFS SLC 40</td>\n",
       "      <td>False ASDS</td>\n",
       "      <td>1</td>\n",
       "      <td>True</td>\n",
       "      <td>False</td>\n",
       "      <td>True</td>\n",
       "      <td>5e9e3032383ecb761634e7cb</td>\n",
       "      <td>1.0</td>\n",
       "      <td>0</td>\n",
       "      <td>B1015</td>\n",
       "      <td>-80.577366</td>\n",
       "      <td>28.561857</td>\n",
       "    </tr>\n",
       "    <tr>\n",
       "      <th>2</th>\n",
       "      <td>24</td>\n",
       "      <td>2015/6/28</td>\n",
       "      <td>Falcon 9</td>\n",
       "      <td>2477.0</td>\n",
       "      <td>ISS</td>\n",
       "      <td>CCSFS SLC 40</td>\n",
       "      <td>None ASDS</td>\n",
       "      <td>1</td>\n",
       "      <td>True</td>\n",
       "      <td>False</td>\n",
       "      <td>True</td>\n",
       "      <td>5e9e3032383ecb6bb234e7ca</td>\n",
       "      <td>1.0</td>\n",
       "      <td>0</td>\n",
       "      <td>B1018</td>\n",
       "      <td>-80.577366</td>\n",
       "      <td>28.561857</td>\n",
       "    </tr>\n",
       "    <tr>\n",
       "      <th>3</th>\n",
       "      <td>25</td>\n",
       "      <td>2015/12/22</td>\n",
       "      <td>Falcon 9</td>\n",
       "      <td>2034.0</td>\n",
       "      <td>LEO</td>\n",
       "      <td>CCSFS SLC 40</td>\n",
       "      <td>True RTLS</td>\n",
       "      <td>1</td>\n",
       "      <td>True</td>\n",
       "      <td>False</td>\n",
       "      <td>True</td>\n",
       "      <td>5e9e3032383ecb267a34e7c7</td>\n",
       "      <td>1.0</td>\n",
       "      <td>0</td>\n",
       "      <td>B1019</td>\n",
       "      <td>-80.577366</td>\n",
       "      <td>28.561857</td>\n",
       "    </tr>\n",
       "    <tr>\n",
       "      <th>4</th>\n",
       "      <td>26</td>\n",
       "      <td>2016/1/17</td>\n",
       "      <td>Falcon 9</td>\n",
       "      <td>553.0</td>\n",
       "      <td>PO</td>\n",
       "      <td>VAFB SLC 4E</td>\n",
       "      <td>False ASDS</td>\n",
       "      <td>1</td>\n",
       "      <td>True</td>\n",
       "      <td>False</td>\n",
       "      <td>True</td>\n",
       "      <td>5e9e3033383ecbb9e534e7cc</td>\n",
       "      <td>1.0</td>\n",
       "      <td>0</td>\n",
       "      <td>B1017</td>\n",
       "      <td>-120.610829</td>\n",
       "      <td>34.632093</td>\n",
       "    </tr>\n",
       "  </tbody>\n",
       "</table>\n",
       "</div>"
      ],
      "text/plain": [
       "   FlightNumber        Date BoosterVersion  PayloadMass Orbit    LaunchSite  \\\n",
       "0            19   2015/1/10       Falcon 9       2395.0   ISS  CCSFS SLC 40   \n",
       "1            22   2015/4/14       Falcon 9       1898.0   ISS  CCSFS SLC 40   \n",
       "2            24   2015/6/28       Falcon 9       2477.0   ISS  CCSFS SLC 40   \n",
       "3            25  2015/12/22       Falcon 9       2034.0   LEO  CCSFS SLC 40   \n",
       "4            26   2016/1/17       Falcon 9        553.0    PO   VAFB SLC 4E   \n",
       "\n",
       "      Outcome  Flights  GridFins  Reused  Legs                LandingPad  \\\n",
       "0  False ASDS        1      True   False  True  5e9e3032383ecb761634e7cb   \n",
       "1  False ASDS        1      True   False  True  5e9e3032383ecb761634e7cb   \n",
       "2   None ASDS        1      True   False  True  5e9e3032383ecb6bb234e7ca   \n",
       "3   True RTLS        1      True   False  True  5e9e3032383ecb267a34e7c7   \n",
       "4  False ASDS        1      True   False  True  5e9e3033383ecbb9e534e7cc   \n",
       "\n",
       "   Block  ReusedCount Serial   Longitude   Latitude  \n",
       "0    1.0            0  B1012  -80.577366  28.561857  \n",
       "1    1.0            0  B1015  -80.577366  28.561857  \n",
       "2    1.0            0  B1018  -80.577366  28.561857  \n",
       "3    1.0            0  B1019  -80.577366  28.561857  \n",
       "4    1.0            0  B1017 -120.610829  34.632093  "
      ]
     },
     "execution_count": 22,
     "metadata": {},
     "output_type": "execute_result"
    }
   ],
   "source": [
    "df_droped = df.dropna()\n",
    "df_droped = df_droped.reset_index(drop=True)\n",
    "df_droped.head()"
   ]
  },
  {
   "cell_type": "markdown",
   "id": "fa44b406",
   "metadata": {},
   "source": [
    "### Classify landing outcome as successful or unsuccessful by creating a landing outcome label from Outcome column, “1” for successful landing, “0” for the unsuccessful landing."
   ]
  },
  {
   "cell_type": "code",
   "execution_count": 23,
   "id": "a1004bb7",
   "metadata": {},
   "outputs": [],
   "source": [
    "# encode the Outcome column\n",
    "df_label = df_droped.replace(['True Ocean','True RTLS', 'True ASDS', \n",
    "                         'False Ocean', 'False RTLS', 'False ASDS', 'None ASDS','None None',\n",
    "                         'True','False'],\n",
    "                        [1,1,1,\n",
    "                         0,0,0,0,0,\n",
    "                         1,0])"
   ]
  },
  {
   "cell_type": "code",
   "execution_count": 24,
   "id": "25356c77",
   "metadata": {},
   "outputs": [
    {
     "data": {
      "text/html": [
       "<div>\n",
       "<style scoped>\n",
       "    .dataframe tbody tr th:only-of-type {\n",
       "        vertical-align: middle;\n",
       "    }\n",
       "\n",
       "    .dataframe tbody tr th {\n",
       "        vertical-align: top;\n",
       "    }\n",
       "\n",
       "    .dataframe thead th {\n",
       "        text-align: right;\n",
       "    }\n",
       "</style>\n",
       "<table border=\"1\" class=\"dataframe\">\n",
       "  <thead>\n",
       "    <tr style=\"text-align: right;\">\n",
       "      <th></th>\n",
       "      <th>FlightNumber</th>\n",
       "      <th>Date</th>\n",
       "      <th>BoosterVersion</th>\n",
       "      <th>PayloadMass</th>\n",
       "      <th>Orbit</th>\n",
       "      <th>LaunchSite</th>\n",
       "      <th>Outcome</th>\n",
       "      <th>Flights</th>\n",
       "      <th>GridFins</th>\n",
       "      <th>Reused</th>\n",
       "      <th>Legs</th>\n",
       "      <th>LandingPad</th>\n",
       "      <th>Block</th>\n",
       "      <th>ReusedCount</th>\n",
       "      <th>Serial</th>\n",
       "      <th>Longitude</th>\n",
       "      <th>Latitude</th>\n",
       "    </tr>\n",
       "  </thead>\n",
       "  <tbody>\n",
       "    <tr>\n",
       "      <th>0</th>\n",
       "      <td>19</td>\n",
       "      <td>2015/1/10</td>\n",
       "      <td>Falcon 9</td>\n",
       "      <td>2395.0</td>\n",
       "      <td>ISS</td>\n",
       "      <td>CCSFS SLC 40</td>\n",
       "      <td>0</td>\n",
       "      <td>1</td>\n",
       "      <td>True</td>\n",
       "      <td>False</td>\n",
       "      <td>True</td>\n",
       "      <td>5e9e3032383ecb761634e7cb</td>\n",
       "      <td>1.0</td>\n",
       "      <td>0</td>\n",
       "      <td>B1012</td>\n",
       "      <td>-80.577366</td>\n",
       "      <td>28.561857</td>\n",
       "    </tr>\n",
       "    <tr>\n",
       "      <th>1</th>\n",
       "      <td>22</td>\n",
       "      <td>2015/4/14</td>\n",
       "      <td>Falcon 9</td>\n",
       "      <td>1898.0</td>\n",
       "      <td>ISS</td>\n",
       "      <td>CCSFS SLC 40</td>\n",
       "      <td>0</td>\n",
       "      <td>1</td>\n",
       "      <td>True</td>\n",
       "      <td>False</td>\n",
       "      <td>True</td>\n",
       "      <td>5e9e3032383ecb761634e7cb</td>\n",
       "      <td>1.0</td>\n",
       "      <td>0</td>\n",
       "      <td>B1015</td>\n",
       "      <td>-80.577366</td>\n",
       "      <td>28.561857</td>\n",
       "    </tr>\n",
       "    <tr>\n",
       "      <th>2</th>\n",
       "      <td>24</td>\n",
       "      <td>2015/6/28</td>\n",
       "      <td>Falcon 9</td>\n",
       "      <td>2477.0</td>\n",
       "      <td>ISS</td>\n",
       "      <td>CCSFS SLC 40</td>\n",
       "      <td>0</td>\n",
       "      <td>1</td>\n",
       "      <td>True</td>\n",
       "      <td>False</td>\n",
       "      <td>True</td>\n",
       "      <td>5e9e3032383ecb6bb234e7ca</td>\n",
       "      <td>1.0</td>\n",
       "      <td>0</td>\n",
       "      <td>B1018</td>\n",
       "      <td>-80.577366</td>\n",
       "      <td>28.561857</td>\n",
       "    </tr>\n",
       "    <tr>\n",
       "      <th>3</th>\n",
       "      <td>25</td>\n",
       "      <td>2015/12/22</td>\n",
       "      <td>Falcon 9</td>\n",
       "      <td>2034.0</td>\n",
       "      <td>LEO</td>\n",
       "      <td>CCSFS SLC 40</td>\n",
       "      <td>1</td>\n",
       "      <td>1</td>\n",
       "      <td>True</td>\n",
       "      <td>False</td>\n",
       "      <td>True</td>\n",
       "      <td>5e9e3032383ecb267a34e7c7</td>\n",
       "      <td>1.0</td>\n",
       "      <td>0</td>\n",
       "      <td>B1019</td>\n",
       "      <td>-80.577366</td>\n",
       "      <td>28.561857</td>\n",
       "    </tr>\n",
       "    <tr>\n",
       "      <th>4</th>\n",
       "      <td>26</td>\n",
       "      <td>2016/1/17</td>\n",
       "      <td>Falcon 9</td>\n",
       "      <td>553.0</td>\n",
       "      <td>PO</td>\n",
       "      <td>VAFB SLC 4E</td>\n",
       "      <td>0</td>\n",
       "      <td>1</td>\n",
       "      <td>True</td>\n",
       "      <td>False</td>\n",
       "      <td>True</td>\n",
       "      <td>5e9e3033383ecbb9e534e7cc</td>\n",
       "      <td>1.0</td>\n",
       "      <td>0</td>\n",
       "      <td>B1017</td>\n",
       "      <td>-120.610829</td>\n",
       "      <td>34.632093</td>\n",
       "    </tr>\n",
       "  </tbody>\n",
       "</table>\n",
       "</div>"
      ],
      "text/plain": [
       "   FlightNumber        Date BoosterVersion  PayloadMass Orbit    LaunchSite  \\\n",
       "0            19   2015/1/10       Falcon 9       2395.0   ISS  CCSFS SLC 40   \n",
       "1            22   2015/4/14       Falcon 9       1898.0   ISS  CCSFS SLC 40   \n",
       "2            24   2015/6/28       Falcon 9       2477.0   ISS  CCSFS SLC 40   \n",
       "3            25  2015/12/22       Falcon 9       2034.0   LEO  CCSFS SLC 40   \n",
       "4            26   2016/1/17       Falcon 9        553.0    PO   VAFB SLC 4E   \n",
       "\n",
       "   Outcome  Flights  GridFins  Reused  Legs                LandingPad  Block  \\\n",
       "0        0        1      True   False  True  5e9e3032383ecb761634e7cb    1.0   \n",
       "1        0        1      True   False  True  5e9e3032383ecb761634e7cb    1.0   \n",
       "2        0        1      True   False  True  5e9e3032383ecb6bb234e7ca    1.0   \n",
       "3        1        1      True   False  True  5e9e3032383ecb267a34e7c7    1.0   \n",
       "4        0        1      True   False  True  5e9e3033383ecbb9e534e7cc    1.0   \n",
       "\n",
       "   ReusedCount Serial   Longitude   Latitude  \n",
       "0            0  B1012  -80.577366  28.561857  \n",
       "1            0  B1015  -80.577366  28.561857  \n",
       "2            0  B1018  -80.577366  28.561857  \n",
       "3            0  B1019  -80.577366  28.561857  \n",
       "4            0  B1017 -120.610829  34.632093  "
      ]
     },
     "execution_count": 24,
     "metadata": {},
     "output_type": "execute_result"
    }
   ],
   "source": [
    "df_label.head()"
   ]
  },
  {
   "cell_type": "code",
   "execution_count": 25,
   "id": "7a200cb9",
   "metadata": {
    "scrolled": true
   },
   "outputs": [
    {
     "data": {
      "text/html": [
       "<div>\n",
       "<style scoped>\n",
       "    .dataframe tbody tr th:only-of-type {\n",
       "        vertical-align: middle;\n",
       "    }\n",
       "\n",
       "    .dataframe tbody tr th {\n",
       "        vertical-align: top;\n",
       "    }\n",
       "\n",
       "    .dataframe thead th {\n",
       "        text-align: right;\n",
       "    }\n",
       "</style>\n",
       "<table border=\"1\" class=\"dataframe\">\n",
       "  <thead>\n",
       "    <tr style=\"text-align: right;\">\n",
       "      <th></th>\n",
       "      <th>Outcome</th>\n",
       "    </tr>\n",
       "  </thead>\n",
       "  <tbody>\n",
       "    <tr>\n",
       "      <th>1</th>\n",
       "      <td>52</td>\n",
       "    </tr>\n",
       "    <tr>\n",
       "      <th>0</th>\n",
       "      <td>9</td>\n",
       "    </tr>\n",
       "  </tbody>\n",
       "</table>\n",
       "</div>"
      ],
      "text/plain": [
       "   Outcome\n",
       "1       52\n",
       "0        9"
      ]
     },
     "execution_count": 25,
     "metadata": {},
     "output_type": "execute_result"
    }
   ],
   "source": [
    "Outcome_label_count = df_label['Outcome'].value_counts().to_frame()\n",
    "Outcome_label_count"
   ]
  },
  {
   "cell_type": "code",
   "execution_count": 26,
   "id": "09ef1dd0",
   "metadata": {},
   "outputs": [
    {
     "data": {
      "image/png": "[encoded data removed]",
      "text/plain": [
       "<Figure size 432x432 with 1 Axes>"
      ]
     },
     "metadata": {},
     "output_type": "display_data"
    }
   ],
   "source": [
    "Outcome_label_count = df_label['Outcome'].value_counts().to_frame()\n",
    "\n",
    "plt.figure(figsize = (6,6))\n",
    "plt.pie(Outcome_label_count['Outcome'], \n",
    "        labels = list(Outcome_label_count.index), \n",
    "        autopct = '%.2f%%' )\n",
    "plt.show()"
   ]
  }
 ],
 "metadata": {
  "celltoolbar": "Raw Cell Format",
  "kernelspec": {
   "display_name": "Python 3 (ipykernel)",
   "language": "python",
   "name": "python3"
  },
  "language_info": {
   "codemirror_mode": {
    "name": "ipython",
    "version": 3
   },
   "file_extension": ".py",
   "mimetype": "text/x-python",
   "name": "python",
   "nbconvert_exporter": "python",
   "pygments_lexer": "ipython3",
   "version": "3.9.7"
  }
 },
 "nbformat": 4,
 "nbformat_minor": 5
}
